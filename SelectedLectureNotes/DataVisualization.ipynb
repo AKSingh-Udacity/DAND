{
 "cells": [
  {
   "cell_type": "markdown",
   "metadata": {},
   "source": [
    "# Data Visualization"
   ]
  },
  {
   "cell_type": "markdown",
   "metadata": {},
   "source": [
    "**Key ideas:**\n",
    "\n",
    "- The key to building great data visualizations is in aiming them at answering the questions you want answered. \n",
    "- Very different datasets can have identical numeric summaries, so it's important to plot the data. Classic example of such datasets is [Anscombe's Quartet](https://en.wikipedia.org/wiki/Anscombe%27s_quartet). More modern example is [Datasaurus' Dozen](https://www.autodeskresearch.com/publications/samestats) "
   ]
  },
  {
   "cell_type": "code",
   "execution_count": 1,
   "metadata": {},
   "outputs": [
    {
     "data": {
      "text/html": [
       "<img src=\"https://d2f99xq7vri1nk.cloudfront.net/AllDinosGrey_1.png\">\n"
      ],
      "text/plain": [
       "<IPython.core.display.HTML object>"
      ]
     },
     "metadata": {},
     "output_type": "display_data"
    }
   ],
   "source": [
    "%%html\n",
    "<img src=\"https://d2f99xq7vri1nk.cloudfront.net/AllDinosGrey_1.png\">"
   ]
  },
  {
   "cell_type": "markdown",
   "metadata": {},
   "source": [
    "<i>Image Source:\n",
    "Justin Matejka, George Fitzmaurice (2017)<br />\n",
    "Same Stats, Different Graphs: Generating Datasets with Varied Appearance and Identical Statistics through Simulated Annealing<br/>\n",
    "CHI 2017 Conference proceedings:<br/>\n",
    "ACM SIGCHI Conference on Human Factors in Computing Systems</i>"
   ]
  },
  {
   "cell_type": "markdown",
   "metadata": {},
   "source": [
    "## Univariate Analysis "
   ]
  },
  {
   "cell_type": "markdown",
   "metadata": {},
   "source": [
    "For quantitative data, if we are just looking at one column worth of data, we have four common visuals:\n",
    "\n",
    "- Histogram\n",
    "- Normal Quantile Plot\n",
    "- Stem and Leaf Plot\n",
    "- Box and Whisker Plot\n",
    "In most cases, histogram is the beest choice.\n",
    "\n",
    "For categorical data, if we are looking at just one variable (column), we have three common visuals:\n",
    "\n",
    "- Bar Chart\n",
    "- Pie Chart\n",
    "- Pareto Chart (same as bar chart, but the bar are ordered by frequency - often used in production to identify the most common problem, for example)\n",
    "\n",
    "In most cases, bar chart is the best choice. "
   ]
  },
  {
   "cell_type": "markdown",
   "metadata": {},
   "source": [
    "## Bivariate Analysis\n",
    "### Scatter Plots"
   ]
  },
  {
   "cell_type": "markdown",
   "metadata": {},
   "source": [
    "Scatter plots are a common visual for comparing two quantitative variables. A common summary statistic that relates to a scatter plot is the correlation coefficient commonly denoted by r.\n",
    "\n",
    "Though there are a few different ways to measure correlation between two variables, the most common way is with Pearson's correlation coefficient. Pearson's correlation coefficient provides the:\n",
    "\n",
    "- Strength \n",
    "- Direction \n",
    "\n",
    "of a linear relationship. **Spearman's Correlation Coefficient** does not measure linear relationships specifically, and it might be more appropriate for certain cases of associating two variables. In fact, it \"assesses how well the relationship between two variables can be described using a monotonic function\" ([Wikipedia](https://en.wikipedia.org/wiki/Spearman%27s_rank_correlation_coefficient))."
   ]
  },
  {
   "cell_type": "markdown",
   "metadata": {},
   "source": [
    "### Line Plots"
   ]
  },
  {
   "cell_type": "markdown",
   "metadata": {},
   "source": [
    "Line plots are a common plot for viewing data over time. These plots allow us to quickly identify overall trends, seasonal occurrences, peaks, and valleys in the data. You will commonly see these used in looking at stock prices over time, but really tracking anything over time can be easily viewed using these plots."
   ]
  },
  {
   "cell_type": "code",
   "execution_count": null,
   "metadata": {},
   "outputs": [],
   "source": []
  }
 ],
 "metadata": {
  "kernelspec": {
   "display_name": "DAND",
   "language": "python",
   "name": "dand"
  },
  "language_info": {
   "codemirror_mode": {
    "name": "ipython",
    "version": 3
   },
   "file_extension": ".py",
   "mimetype": "text/x-python",
   "name": "python",
   "nbconvert_exporter": "python",
   "pygments_lexer": "ipython3",
   "version": "3.6.8"
  }
 },
 "nbformat": 4,
 "nbformat_minor": 2
}
