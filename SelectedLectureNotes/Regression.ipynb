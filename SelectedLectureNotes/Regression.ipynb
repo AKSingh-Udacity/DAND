{
 "cells": [
  {
   "cell_type": "markdown",
   "metadata": {},
   "source": [
    "# Regression"
   ]
  },
  {
   "cell_type": "markdown",
   "metadata": {},
   "source": [
    "## Simple Regression "
   ]
  },
  {
   "cell_type": "markdown",
   "metadata": {},
   "source": [
    "Simple Regression - just two varialbles, one which is the explanatory variable (x) and the other one is response variable (y). This type of regression can be easily illustrated with scatterplot. "
   ]
  },
  {
   "cell_type": "markdown",
   "metadata": {},
   "source": [
    "### Correlation Coefficent "
   ]
  },
  {
   "cell_type": "markdown",
   "metadata": {},
   "source": [
    "<b>Correlation Coefficient (r)</b> - the strength and direction of a linear relationship. $r \\in [-1,1]$"
   ]
  },
  {
   "cell_type": "markdown",
   "metadata": {},
   "source": [
    "The boundaries for the strengh of correlation depend on the fiels. General guidelines:  \n",
    "- Strong: $0.7 \\leq |r| < 1.0$   \n",
    "- Moderate: $0.3 \\leq |r| < 0.7$   \n",
    "- Weak: $0.0 \\leq |r| < 0.3$   \n"
   ]
  },
  {
   "cell_type": "markdown",
   "metadata": {},
   "source": [
    "$$r = \\frac{\\sum_{i=1}^n (x_i - \\bar{x})(y_i - \\bar{y}) } { {\\sqrt{\\sum_{i=1}^n (x_i - \\bar{x})^2}} {\\sqrt{\\sum_{i=1}^n (y_i - \\bar{y})^2}}} $$"
   ]
  },
  {
   "cell_type": "markdown",
   "metadata": {},
   "source": [
    "<b>Important:</b> if $r=0$ it DOES NOT necessarily mean that there is no relationship at all. It just means that there is no <b>linear</b> relationships. So, correlation cofficient only captures linear relationships."
   ]
  },
  {
   "cell_type": "markdown",
   "metadata": {},
   "source": [
    "### Example in Python"
   ]
  },
  {
   "cell_type": "code",
   "execution_count": 4,
   "metadata": {},
   "outputs": [],
   "source": [
    "import pandas as pd\n",
    "import numpy as np"
   ]
  },
  {
   "cell_type": "code",
   "execution_count": 10,
   "metadata": {},
   "outputs": [],
   "source": [
    "df = pd.read_excel('quizzes-data-1.xlsx')\n",
    "df = df[df.Temp.notnull()&df.Sales.notnull()]"
   ]
  },
  {
   "cell_type": "code",
   "execution_count": 11,
   "metadata": {
    "scrolled": true
   },
   "outputs": [
    {
     "data": {
      "text/plain": [
       "array([[1.        , 0.95902026],\n",
       "       [0.95902026, 1.        ]])"
      ]
     },
     "execution_count": 11,
     "metadata": {},
     "output_type": "execute_result"
    }
   ],
   "source": [
    "np.corrcoef(df.Temp, df.Sales)"
   ]
  },
  {
   "cell_type": "markdown",
   "metadata": {},
   "source": [
    "### Regression Line"
   ]
  },
  {
   "cell_type": "markdown",
   "metadata": {},
   "source": [
    "A line is commonly identified by an intercept and a slope.\n",
    "\n",
    "The **intercept** is defined as the **predicted value of the response when the x-variable is zero**.\n",
    "\n",
    "The **slope** is defined as the **predicted change in the response for every one unit increase in the x-variable**."
   ]
  },
  {
   "cell_type": "markdown",
   "metadata": {},
   "source": [
    "The regression line is defined as follows: "
   ]
  },
  {
   "cell_type": "markdown",
   "metadata": {},
   "source": [
    "$$\\hat{y} = b_0 + b_1 x$$"
   ]
  },
  {
   "cell_type": "markdown",
   "metadata": {},
   "source": [
    "$b_0, b_1$ are statistic values, whereas $\\beta_0, \\beta_1$ are actual, population parameters. Also, $\\hat{y}$ is predicted value, whereas $y$ is actual value."
   ]
  },
  {
   "cell_type": "markdown",
   "metadata": {},
   "source": [
    "### Least Squares Algorithm \n",
    "Goal: Minimize the sum of the squared vertical distances from the line to points. Objective function will look like this:  "
   ]
  },
  {
   "cell_type": "markdown",
   "metadata": {},
   "source": [
    "$$E = \\sum_{i=1}^n (y_i-\\hat{y_i})^2$$"
   ]
  },
  {
   "cell_type": "markdown",
   "metadata": {},
   "source": [
    "Other loss functions are possible, but this one is the easiest one to work with since it's easy to take it's derivative which is necessary for finding the minimum. "
   ]
  },
  {
   "cell_type": "markdown",
   "metadata": {},
   "source": [
    "#### Derivation"
   ]
  },
  {
   "cell_type": "markdown",
   "metadata": {},
   "source": [
    "We can define our $\\hat{y_i}$ as:\n",
    "$$x^T b$$, \n",
    "where $x_i$ is a vector $(1, {x_i}')$ (I'm turning original scalar $x_i$ to a vector so that we can pack it into a dot product. By default, all vectors are column vectors. Now, b is a vector $(b_0, b_1)$. Check that we get the same result after these arrangements: \n",
    "\n",
    "$$x^T b = [1; x_i]^T [b_0; b_1] = b_0 + b_1 x_i $$\n",
    "\n",
    "So we can rewrite our objective function as: \n",
    "\n",
    "$$E(b) = \\sum_{i=1}^{n} (y_i - x^T b)^2$$ \n",
    "\n",
    "This sum is actually the definiton of a dot product, so we can further rewrite it as: \n",
    "\n",
    "$$E(b) = \\sum_{i=1}^{n} (y_i - x^T b)^2 = (y-Xb)^T (y-Xb)$$, \n",
    "\n",
    "where X is a n by 2 matrix with the first column being all 1s. So when we multiply this matrix by vector b, we'll get $\\hat{y}$ vector of predictions. Now we can minimize this function, but first we will expand it: \n",
    "\n",
    "$$E(b) = (y-Xb)^T (y-Xb) = y^T y - y^T X b - b^T X^T y + b^T X^T X b$$\n",
    "\n",
    "Here, it's important to notice that $y^T X b = b^T X^T y$, so we can now write: \n",
    "\n",
    "$$E(b) = y^T y - 2 b^T X^T y + b^T X^T X b $$\n",
    "\n",
    "And now we will take the derivative of this guy and equate it to $\\vec{0}$:  \n",
    "\n",
    "$$\\nabla{E} = - 2 X^T y + 2 X^T X b = 0 $$\n",
    "\n",
    "And now we can find the b vector as follows: \n",
    "\n",
    "$$X^T y = X^T X b$$\n",
    "\n",
    "$$b = (X^T X)^{-1} X^T y $$  \n",
    "\n",
    "The only possible problem here is that the matrix might appear to be non-invertible and in this case there are special techniques that help to avoid it. Typically, pseudoinverse is used. "
   ]
  },
  {
   "cell_type": "code",
   "execution_count": null,
   "metadata": {},
   "outputs": [],
   "source": []
  }
 ],
 "metadata": {
  "kernelspec": {
   "display_name": "Python [conda env:root]",
   "language": "python",
   "name": "conda-root-py"
  },
  "language_info": {
   "codemirror_mode": {
    "name": "ipython",
    "version": 3
   },
   "file_extension": ".py",
   "mimetype": "text/x-python",
   "name": "python",
   "nbconvert_exporter": "python",
   "pygments_lexer": "ipython3",
   "version": "3.6.6"
  }
 },
 "nbformat": 4,
 "nbformat_minor": 2
}
