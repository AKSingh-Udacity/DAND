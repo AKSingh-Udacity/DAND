{
 "cells": [
  {
   "cell_type": "markdown",
   "metadata": {},
   "source": [
    "# Wikipedia Crawling Experiment\n",
    "\n",
    "### Idea.\n",
    "In on the Udacity's lab the instructor shared an idea that if you start at random article and keep clicking on the first link you see (excluding citations), then you will eventually get to Philosophy page. I have enhanced the algorithm to take the first link excluding references to the word origin. Otherwise, we always get to language page (typically - Latin).  \n",
    "The question I tried to explore is what are the most frequent pages we end our search at - will it be Philosophy or something else? \n",
    "\n",
    "### Tools\n",
    "For the purpose of this lab I am going to use the following libraries: \n",
    "- requests;  \n",
    "- BeutifulSoup;  \n",
    "- urllib\n",
    "- time"
   ]
  },
  {
   "cell_type": "code",
   "execution_count": 1,
   "metadata": {},
   "outputs": [],
   "source": [
    "import requests\n",
    "import time\n",
    "import urllib\n",
    "import bs4"
   ]
  },
  {
   "cell_type": "markdown",
   "metadata": {},
   "source": [
    "### Search conditions\n",
    "<p>First, we need to describe the problem setup.</p>\n",
    "\n",
    "#### First link\n",
    "<p><b>The first link</b> is the first link we see in the first actual paragraph of the Wikipedia article, EXCLUDING links to references and links about the language.</p>\n",
    "\n",
    "<p>Sample fragment from Wikipedia:</p>\n",
    "<hr>\n",
    "<p>The <b>Goidelic</b> <span class=\"nowrap\"><span class=\"IPA nopopups noexcerpt\"><a href=\"/wiki/Help:IPA/English\" title=\"Help:IPA/English\">/<span style=\"border-bottom:1px dotted\"><span title=\"/ɡ/: &#39;g&#39; in &#39;guy&#39;\">ɡ</span><span title=\"/ɔɪ/: &#39;oi&#39; in &#39;choice&#39;\">ɔɪ</span><span title=\"/ˈ/: primary stress follows\">ˈ</span><span title=\"&#39;d&#39; in &#39;dye&#39;\">d</span><span title=\"/ɛ/: &#39;e&#39; in &#39;dress&#39;\">ɛ</span><span title=\"&#39;l&#39; in &#39;lie&#39;\">l</span><span title=\"/ɪ/: &#39;i&#39; in &#39;kit&#39;\">ɪ</span><span title=\"&#39;k&#39; in &#39;kind&#39;\">k</span></span>/</a></span></span> or <b>Gaelic languages</b> (<a href=\"/wiki/Irish_language\" title=\"Irish language\">Irish</a>: <i lang=\"ga\">teangacha Gaelacha</i>; <a href=\"/wiki/Scottish_Gaelic_language\" class=\"mw-redirect\" title=\"Scottish Gaelic language\">Scottish Gaelic</a>: <i lang=\"gd\">cànanan Goidhealach</i>; <a href=\"/wiki/Manx_language\" title=\"Manx language\">Manx</a>: <i lang=\"gv\">çhengaghyn Gaelgagh</i>) form one of the two groups of <a href=\"/wiki/Insular_Celtic_languages\" title=\"Insular Celtic languages\">Insular Celtic languages</a>, the other being the <a href=\"/wiki/Brittonic_languages\" title=\"Brittonic languages\">Brittonic languages</a>.<sup id=\"cite_ref-2\" class=\"reference\"><a href=\"#cite_note-2\">&#91;2&#93;</a></sup>\n",
    "</p>\n",
    "<hr>\n",
    "\n",
    "<p>In this case we should ignore the link to Irish language and \"click\" on \"Insular Celtic languages\"</p>\n",
    "\n",
    "#### Search stop conditions\n",
    "We should stop in the following cases: \n",
    "- if the chain exceeds the given length\n",
    "- if we get into a loop (e.g. Reality -> Existsence -> Reality)\n",
    "- if we get to an article with no links at all (in the main content)\n",
    "- if we reach an article on Philosophy"
   ]
  },
  {
   "cell_type": "markdown",
   "metadata": {},
   "source": [
    "### Implementation"
   ]
  },
  {
   "cell_type": "code",
   "execution_count": 2,
   "metadata": {},
   "outputs": [],
   "source": [
    "# start url - if we click on that link we'll get to a random Wikipedia article\n",
    "start_url = \"https://en.wikipedia.org/wiki/Special:Random\"\n",
    "target_url = \"https://en.wikipedia.org/wiki/Philosophy\""
   ]
  },
  {
   "cell_type": "markdown",
   "metadata": {},
   "source": [
    "My main modification was for the function of extracting the first link. The algorithm is as follows:  \n",
    "1) get all the html code inside the parentheses (since all language remarks are inside the parentheses);  \n",
    "2) extract all the links from the code inside of the parentheses;  \n",
    "3) when extracting the first link - loop until we meet a link that is NOT among the links obtained in step 2.\n",
    "\n",
    "The first version simply took everything after the parentheses, but this approach failed on several examples with parentheses. "
   ]
  },
  {
   "cell_type": "code",
   "execution_count": 3,
   "metadata": {},
   "outputs": [],
   "source": [
    "def get_links_in_parentheses(html_element):\n",
    "    \"\"\"\n",
    "    Find all the links that are in the first parentheses in the given html element. \n",
    "    Return links in short form (as theyare in Wikipedia). \n",
    "    \"\"\"\n",
    "    elstr = html_element.prettify()\n",
    "    parenth_start = elstr.find(\"(\")\n",
    "    parenth_end = elstr.find(\")\")\n",
    "    cleaned_html = elstr[parenth_start:parenth_end+1]\n",
    "    element = bs4.BeautifulSoup(cleaned_html, \"html.parser\")\n",
    "    links = []\n",
    "    for alink in element.find_all(\"a\", recursive=False):\n",
    "        link = alink.get('href')\n",
    "        links.append(link)\n",
    "    return links"
   ]
  },
  {
   "cell_type": "code",
   "execution_count": 4,
   "metadata": {},
   "outputs": [],
   "source": [
    "def find_first_link(url):\n",
    "    \"\"\"Get the first link on the Wikipedia page that is not a reference\n",
    "    Core function: taken from Udacity tutorial. I've modified it to \n",
    "    search for the correct first link. \n",
    "    \"\"\"\n",
    "    response = requests.get(url)\n",
    "    html = response.text\n",
    "    soup = bs4.BeautifulSoup(html, \"html.parser\")\n",
    "\n",
    "    # This div contains the article's body\n",
    "    content_div = soup.find(id=\"mw-content-text\").find(class_=\"mw-parser-output\")\n",
    "    \n",
    "    # stores the first link found in the article, if the article contains no\n",
    "    # links this value will remain None\n",
    "    first_link = None\n",
    "    word = None\n",
    "\n",
    "    # Find all the direct children of content_div that are paragraphs\n",
    "    if content_div:\n",
    "        paragraphs = content_div.find_all(\"p\", recursive=False)\n",
    "    else:\n",
    "        return None, None\n",
    "    for element in paragraphs:\n",
    "        # Find the first anchor tag that's a direct child of a paragraph.\n",
    "        # It's important to only look at direct children, because other types\n",
    "        # of link, e.g. footnotes and pronunciation, could come before the\n",
    "        # first link to an article. Those other link types aren't direct\n",
    "        # children though, they're in divs of various classes.\n",
    "        invalid_links = get_links_in_parentheses(element)\n",
    "        # find all candidates links\n",
    "        candidates = element.find_all(\"a\", recursive=False)\n",
    "        for candidate in candidates:\n",
    "            # check if the candidate is valid (i.e. it's not a language reference)\n",
    "            if not candidate.get('href') in invalid_links:\n",
    "                article_link = candidate.get('href')\n",
    "                first_link = urllib.parse.urljoin('https://en.wikipedia.org/', article_link)\n",
    "                word = article_link.split('/')[-1]\n",
    "                break\n",
    "        if first_link:\n",
    "            break\n",
    "\n",
    "    return first_link, word"
   ]
  },
  {
   "cell_type": "markdown",
   "metadata": {},
   "source": [
    "Try this function with our example with Goidelic languages: "
   ]
  },
  {
   "cell_type": "code",
   "execution_count": 5,
   "metadata": {},
   "outputs": [
    {
     "data": {
      "text/plain": [
       "('https://en.wikipedia.org/wiki/Insular_Celtic_languages',\n",
       " 'Insular_Celtic_languages')"
      ]
     },
     "execution_count": 5,
     "metadata": {},
     "output_type": "execute_result"
    }
   ],
   "source": [
    "find_first_link(\"https://en.wikipedia.org/wiki/Goidelic_languages\")"
   ]
  },
  {
   "cell_type": "code",
   "execution_count": 6,
   "metadata": {},
   "outputs": [],
   "source": [
    "def continue_crawl(search_history, target_url, max_steps):\n",
    "    \"\"\"Checks the conditions for terminating the search. Returns True if:\n",
    "    - we haven't reached Philosophy article yet\n",
    "    - the max_steps lengths was not exceeded\n",
    "    - we're not in a loop (we see the last article in the search history\n",
    "    for the first time)\n",
    "    \"\"\"\n",
    "    target = search_history[-1] == target_url\n",
    "    endless = len(search_history) > max_steps\n",
    "    loop = search_history[-1] in search_history[:-1]\n",
    "    return not target and not endless and not loop\n",
    "\n",
    "\n",
    "def find_url_chain(start_url, target_url, max_steps=25):\n",
    "    \"\"\"Returns all the links (but no more than max_steps) that are\n",
    "    accessed by clicking on the first link.\n",
    "    Core function - by Udacity. I've modified it to \n",
    "    collect the chain of words and the chain of links. \n",
    "    \"\"\"\n",
    "    start_word = start_url.split('/')[-1]\n",
    "    article_chain = [start_url]\n",
    "    word_chain = [start_word]\n",
    "    while continue_crawl(article_chain, target_url, max_steps):        \n",
    "        first_link, word = find_first_link(article_chain[-1])\n",
    "        if not first_link:            \n",
    "            print(\"We've arrived at an article with no links, aborting search!\")\n",
    "            break\n",
    "        article_chain.append(first_link)\n",
    "        word_chain.append(word)\n",
    " \n",
    "        time.sleep(1) # Slow things down so as to not hammer Wikipedia's servers\n",
    "    if len(article_chain) != len(set(article_chain)):\n",
    "        return article_chain[1:-1], word_chain[1:-1]\n",
    "    return article_chain[1:], word_chain[1:]"
   ]
  },
  {
   "cell_type": "markdown",
   "metadata": {},
   "source": [
    "Sample links and word chains: "
   ]
  },
  {
   "cell_type": "code",
   "execution_count": 7,
   "metadata": {},
   "outputs": [
    {
     "data": {
      "text/plain": [
       "(['https://en.wikipedia.org/wiki/Settlor',\n",
       "  'https://en.wikipedia.org/wiki/Settlement_(trust)',\n",
       "  'https://en.wikipedia.org/wiki/Trusts_law',\n",
       "  'https://en.wikipedia.org/wiki/Fiduciary',\n",
       "  'https://en.wikipedia.org/wiki/Law',\n",
       "  'https://en.wikipedia.org/wiki/System',\n",
       "  'https://en.wikipedia.org/wiki/Latin',\n",
       "  'https://en.wikipedia.org/wiki/Classical_language',\n",
       "  'https://en.wikipedia.org/wiki/Language',\n",
       "  'https://en.wikipedia.org/wiki/Communication',\n",
       "  'https://en.wikipedia.org/wiki/Meaning_(semiotics)',\n",
       "  'https://en.wikipedia.org/wiki/Semiotics',\n",
       "  'https://en.wikipedia.org/wiki/Meaning-making',\n",
       "  'https://en.wikipedia.org/wiki/Psychology',\n",
       "  'https://en.wikipedia.org/wiki/Science',\n",
       "  'https://en.wikipedia.org/wiki/Knowledge',\n",
       "  'https://en.wikipedia.org/wiki/Fact',\n",
       "  'https://en.wikipedia.org/wiki/Reality',\n",
       "  'https://en.wikipedia.org/wiki/Existence'],\n",
       " ['Settlor',\n",
       "  'Settlement_(trust)',\n",
       "  'Trusts_law',\n",
       "  'Fiduciary',\n",
       "  'Law',\n",
       "  'System',\n",
       "  'Latin',\n",
       "  'Classical_language',\n",
       "  'Language',\n",
       "  'Communication',\n",
       "  'Meaning_(semiotics)',\n",
       "  'Semiotics',\n",
       "  'Meaning-making',\n",
       "  'Psychology',\n",
       "  'Science',\n",
       "  'Knowledge',\n",
       "  'Fact',\n",
       "  'Reality',\n",
       "  'Existence'])"
      ]
     },
     "execution_count": 7,
     "metadata": {},
     "output_type": "execute_result"
    }
   ],
   "source": [
    "find_url_chain('https://en.wikipedia.org/wiki/Special:Random', \"https://en.wikipedia.org/wiki/Philosophy\")"
   ]
  },
  {
   "cell_type": "markdown",
   "metadata": {},
   "source": [
    "### Experiment\n",
    "Now we can carry out an experiment. We will run the whole process for 20 different articles. I've added try-catch block in case some of these searches fails. The reason is that we might encounter some unpredictable situation (since it's impossible to predict every possible format of Wikipedia article), and in this case we would like to simply drop this article. "
   ]
  },
  {
   "cell_type": "code",
   "execution_count": 8,
   "metadata": {},
   "outputs": [],
   "source": [
    "import sys\n",
    "def get_url_chains(n_articles=3, target_url=\"https://en.wikipedia.org/wiki/Philosophy\"):\n",
    "    all_chains = []\n",
    "    all_word_chains = []    \n",
    "    for i in range(n_articles):\n",
    "        try:\n",
    "            chain, word_chain = find_url_chain(\"https://en.wikipedia.org/wiki/Special:Random\", target_url)\n",
    "            all_chains.append(chain)\n",
    "            all_word_chains.append(word_chain)\n",
    "        except e:\n",
    "            e = sys.exc_info()[0]\n",
    "            print(e)            \n",
    "    return all_chains, all_word_chains        "
   ]
  },
  {
   "cell_type": "code",
   "execution_count": 10,
   "metadata": {},
   "outputs": [
    {
     "name": "stdout",
     "output_type": "stream",
     "text": [
      "We've arrived at an article with no links, aborting search!\n",
      "We've arrived at an article with no links, aborting search!\n",
      "We've arrived at an article with no links, aborting search!\n"
     ]
    }
   ],
   "source": [
    "all_chains, all_word_chains = get_url_chains(100)"
   ]
  },
  {
   "cell_type": "markdown",
   "metadata": {},
   "source": [
    "### Vizualization"
   ]
  },
  {
   "cell_type": "code",
   "execution_count": 11,
   "metadata": {},
   "outputs": [],
   "source": [
    "all_links = [y for x in all_chains for y in x]\n",
    "all_words = [y for x in all_word_chains for y in x]"
   ]
  },
  {
   "cell_type": "code",
   "execution_count": 12,
   "metadata": {},
   "outputs": [
    {
     "data": {
      "text/plain": [
       "[('Knowledge', 83),\n",
       " ('Fact', 83),\n",
       " ('Reality', 82),\n",
       " ('Existence', 82),\n",
       " ('Science', 74),\n",
       " ('Psychology', 39),\n",
       " ('Natural_science', 23),\n",
       " ('Branches_of_science', 23),\n",
       " ('Communication', 22),\n",
       " ('Meaning_(semiotics)', 22)]"
      ]
     },
     "execution_count": 12,
     "metadata": {},
     "output_type": "execute_result"
    }
   ],
   "source": [
    "from collections import Counter\n",
    "word_counts = Counter(all_words).most_common()[:20]\n",
    "word_counts[:10]"
   ]
  },
  {
   "cell_type": "code",
   "execution_count": 13,
   "metadata": {},
   "outputs": [],
   "source": [
    "%matplotlib inline\n",
    "import matplotlib.pyplot as plt\n",
    "import numpy as np"
   ]
  },
  {
   "cell_type": "code",
   "execution_count": 14,
   "metadata": {},
   "outputs": [],
   "source": [
    "#xs = list(word_counts.keys())\n",
    "x, y = zip(*word_counts)"
   ]
  },
  {
   "cell_type": "code",
   "execution_count": 15,
   "metadata": {},
   "outputs": [
    {
     "data": {
      "image/png": "[encoded data removed]",
      "text/plain": [
       "<Figure size 1008x576 with 1 Axes>"
      ]
     },
     "metadata": {},
     "output_type": "display_data"
    }
   ],
   "source": [
    "fig = plt.figure(figsize=(14, 8))\n",
    "ax = fig.add_subplot(111)\n",
    "rects1 = ax.bar(x, y, align = 'center')\n",
    "ax.set_xticks(x)\n",
    "ax.set_xticklabels(x, rotation=45 )\n",
    "plt.show()"
   ]
  },
  {
   "cell_type": "code",
   "execution_count": null,
   "metadata": {},
   "outputs": [],
   "source": []
  }
 ],
 "metadata": {
  "kernelspec": {
   "display_name": "Python 3",
   "language": "python",
   "name": "python3"
  },
  "language_info": {
   "codemirror_mode": {
    "name": "ipython",
    "version": 3
   },
   "file_extension": ".py",
   "mimetype": "text/x-python",
   "name": "python",
   "nbconvert_exporter": "python",
   "pygments_lexer": "ipython3",
   "version": "3.6.5"
  }
 },
 "nbformat": 4,
 "nbformat_minor": 2
}
