{
 "cells": [
  {
   "cell_type": "markdown",
   "metadata": {},
   "source": [
    "# Project: No Show Appointments Analysis\n",
    "<a id=\"top\"></a>\n",
    "\n",
    "## Table of Contents\n",
    "<ul>\n",
    "<li><a href=\"#intro\">Introduction</a></li>\n",
    "<li><a href=\"#wrangling\">Data Wrangling</a>\n",
    "    <ul>\n",
    "        <li><a href=\"#general_properties\">General Properties</a></li>\n",
    "        <li><a href=\"#actions_plan\">Actions Plan</a></li>\n",
    "        <li><a href=\"#cleaning\">Data Cleaning</a></li>\n",
    "    </ul>\n",
    "    </li>\n",
    "<li><a href=\"#eda\">Exploratory Data Analysis</a>\n",
    "    <ul>\n",
    "        <li><a href=\"#overview\">0. Overview</a></li>\n",
    "        <li><a href=\"#gender\">1. What gender is more likely to skip the appointment: men or women?</a></li>    \n",
    "        <li><a href=\"#daysbefore\">2. What is the average number of days between the scheduling and actual appointment in both groups?</a></li>\n",
    "        <li><a href=\"#conditions\">3. What condition (Hipertension, Diabetis, Alcoholism) has the lowest number of no-shows?</a></li>\n",
    "        <li><a href=\"#age_groups\">4. What age groups have the lowest/highest rate of no shows?</a></li>\n",
    "        <li><a href=\"#cond_age\">5. What conditions dominate in different age groups?</a></li>\n",
    "        <li><a href=\"#additional\">Additional exploration: alcoholism in age group 0-14? Scary observations</a></li>\n",
    "    </ul>\n",
    "    </li>\n",
    "    \n",
    "<li><a href=\"#conclusions\">Conclusions</a></li>\n",
    "</ul>"
   ]
  },
  {
   "cell_type": "markdown",
   "metadata": {},
   "source": [
    "<a id='intro'></a>\n",
    "## Introduction\n",
    "<a href=\"#top\">Back to Top</a>"
   ]
  },
  {
   "cell_type": "markdown",
   "metadata": {},
   "source": [
    "This dataset contains the records from 110,527 medical appointments in Brazil. The dataset describes different characteristics of each appointment (rather than of each patient):  \n",
    "- PatientId  \n",
    "- AppointmentId \n",
    "- Gender \n",
    "- ScheduledDay &mdash; the day when the patient scheduled their appointment \n",
    "- AppointmentDay \n",
    "- Age\n",
    "- Neighbourhood &mdash; the location of the hospital \n",
    "- Scholarship &mdash; 1 if the patient is enrolled into Brazilian welfare program Bolsa Familia. \n",
    "- Hipertension, Diabetis, Alcoholism, Handcap\n",
    "- SMS_received &mdash; whether a patient received an SMS before the appointment \n",
    "- No-show &mdash; No if the patient DID show up at the scheduled day, yes if he didn't. \n",
    "\n",
    "The goal is to explore what factors influence if the patient shows up for their appointment. The variable of interest is <b>binary</b>, so we can't simply make a scatter plot to check for relationship between other variables and the variable of interest. What we can do is to compare the distributions of attribute values for two groups - when the patient showed up and when he didn't show up. I.e. - how do these groups differ? \n",
    "\n",
    "In this sense it would be interesting to investigate the following:  \n",
    "1) What gender is more likely to skip the appointment: men or women?   \n",
    "2) What is the average number of days between the scheduling and actual appointment in both groups?   \n",
    "3) What conditions (Hypertension, Diabetis, Alcoholism) have the lowest number of no-shows?   \n",
    "4) What age groups have the lowest/highest number of no shows?    "
   ]
  },
  {
   "cell_type": "code",
   "execution_count": 1,
   "metadata": {},
   "outputs": [],
   "source": [
    "# Import libraries\n",
    "import pandas as pd\n",
    "import numpy as np\n",
    "import matplotlib.pyplot as plt\n",
    "%matplotlib inline"
   ]
  },
  {
   "cell_type": "markdown",
   "metadata": {},
   "source": [
    "<a id='wrangling'></a>\n",
    "## Data Wrangling\n",
    "<a id=\"general_properties\"></a>\n",
    "### General Properties  \n",
    "\n",
    "<a href=\"#top\">Back to Top</a>"
   ]
  },
  {
   "cell_type": "code",
   "execution_count": 2,
   "metadata": {},
   "outputs": [],
   "source": [
    "df = pd.read_csv('no_show_dataset.csv')"
   ]
  },
  {
   "cell_type": "markdown",
   "metadata": {},
   "source": [
    "First of all, we need to check our dataset to make sure that we don't have missing values, that entries are valid and that we have appropriate encoding for all the variables. "
   ]
  },
  {
   "cell_type": "code",
   "execution_count": 3,
   "metadata": {},
   "outputs": [
    {
     "data": {
      "text/html": [
       "<div>\n",
       "<style scoped>\n",
       "    .dataframe tbody tr th:only-of-type {\n",
       "        vertical-align: middle;\n",
       "    }\n",
       "\n",
       "    .dataframe tbody tr th {\n",
       "        vertical-align: top;\n",
       "    }\n",
       "\n",
       "    .dataframe thead th {\n",
       "        text-align: right;\n",
       "    }\n",
       "</style>\n",
       "<table border=\"1\" class=\"dataframe\">\n",
       "  <thead>\n",
       "    <tr style=\"text-align: right;\">\n",
       "      <th></th>\n",
       "      <th>PatientId</th>\n",
       "      <th>AppointmentID</th>\n",
       "      <th>Gender</th>\n",
       "      <th>ScheduledDay</th>\n",
       "      <th>AppointmentDay</th>\n",
       "      <th>Age</th>\n",
       "      <th>Neighbourhood</th>\n",
       "      <th>Scholarship</th>\n",
       "      <th>Hipertension</th>\n",
       "      <th>Diabetes</th>\n",
       "      <th>Alcoholism</th>\n",
       "      <th>Handcap</th>\n",
       "      <th>SMS_received</th>\n",
       "      <th>No-show</th>\n",
       "    </tr>\n",
       "  </thead>\n",
       "  <tbody>\n",
       "    <tr>\n",
       "      <th>0</th>\n",
       "      <td>2.987250e+13</td>\n",
       "      <td>5642903</td>\n",
       "      <td>F</td>\n",
       "      <td>2016-04-29T18:38:08Z</td>\n",
       "      <td>2016-04-29T00:00:00Z</td>\n",
       "      <td>62</td>\n",
       "      <td>JARDIM DA PENHA</td>\n",
       "      <td>0</td>\n",
       "      <td>1</td>\n",
       "      <td>0</td>\n",
       "      <td>0</td>\n",
       "      <td>0</td>\n",
       "      <td>0</td>\n",
       "      <td>No</td>\n",
       "    </tr>\n",
       "    <tr>\n",
       "      <th>1</th>\n",
       "      <td>5.589978e+14</td>\n",
       "      <td>5642503</td>\n",
       "      <td>M</td>\n",
       "      <td>2016-04-29T16:08:27Z</td>\n",
       "      <td>2016-04-29T00:00:00Z</td>\n",
       "      <td>56</td>\n",
       "      <td>JARDIM DA PENHA</td>\n",
       "      <td>0</td>\n",
       "      <td>0</td>\n",
       "      <td>0</td>\n",
       "      <td>0</td>\n",
       "      <td>0</td>\n",
       "      <td>0</td>\n",
       "      <td>No</td>\n",
       "    </tr>\n",
       "    <tr>\n",
       "      <th>2</th>\n",
       "      <td>4.262962e+12</td>\n",
       "      <td>5642549</td>\n",
       "      <td>F</td>\n",
       "      <td>2016-04-29T16:19:04Z</td>\n",
       "      <td>2016-04-29T00:00:00Z</td>\n",
       "      <td>62</td>\n",
       "      <td>MATA DA PRAIA</td>\n",
       "      <td>0</td>\n",
       "      <td>0</td>\n",
       "      <td>0</td>\n",
       "      <td>0</td>\n",
       "      <td>0</td>\n",
       "      <td>0</td>\n",
       "      <td>No</td>\n",
       "    </tr>\n",
       "  </tbody>\n",
       "</table>\n",
       "</div>"
      ],
      "text/plain": [
       "      PatientId  AppointmentID Gender          ScheduledDay  \\\n",
       "0  2.987250e+13        5642903      F  2016-04-29T18:38:08Z   \n",
       "1  5.589978e+14        5642503      M  2016-04-29T16:08:27Z   \n",
       "2  4.262962e+12        5642549      F  2016-04-29T16:19:04Z   \n",
       "\n",
       "         AppointmentDay  Age    Neighbourhood  Scholarship  Hipertension  \\\n",
       "0  2016-04-29T00:00:00Z   62  JARDIM DA PENHA            0             1   \n",
       "1  2016-04-29T00:00:00Z   56  JARDIM DA PENHA            0             0   \n",
       "2  2016-04-29T00:00:00Z   62    MATA DA PRAIA            0             0   \n",
       "\n",
       "   Diabetes  Alcoholism  Handcap  SMS_received No-show  \n",
       "0         0           0        0             0      No  \n",
       "1         0           0        0             0      No  \n",
       "2         0           0        0             0      No  "
      ]
     },
     "execution_count": 3,
     "metadata": {},
     "output_type": "execute_result"
    }
   ],
   "source": [
    "df.head(3) "
   ]
  },
  {
   "cell_type": "code",
   "execution_count": 4,
   "metadata": {
    "scrolled": true
   },
   "outputs": [
    {
     "name": "stdout",
     "output_type": "stream",
     "text": [
      "<class 'pandas.core.frame.DataFrame'>\n",
      "RangeIndex: 110527 entries, 0 to 110526\n",
      "Data columns (total 14 columns):\n",
      "PatientId         110527 non-null float64\n",
      "AppointmentID     110527 non-null int64\n",
      "Gender            110527 non-null object\n",
      "ScheduledDay      110527 non-null object\n",
      "AppointmentDay    110527 non-null object\n",
      "Age               110527 non-null int64\n",
      "Neighbourhood     110527 non-null object\n",
      "Scholarship       110527 non-null int64\n",
      "Hipertension      110527 non-null int64\n",
      "Diabetes          110527 non-null int64\n",
      "Alcoholism        110527 non-null int64\n",
      "Handcap           110527 non-null int64\n",
      "SMS_received      110527 non-null int64\n",
      "No-show           110527 non-null object\n",
      "dtypes: float64(1), int64(8), object(5)\n",
      "memory usage: 11.8+ MB\n"
     ]
    }
   ],
   "source": [
    "df.info()"
   ]
  },
  {
   "cell_type": "markdown",
   "metadata": {},
   "source": [
    "<a id=\"#actions_plan\"></a>\n",
    "### Actions Plan \n",
    "<a href=\"#top\">Back to Top</a>\n",
    "\n",
    "\n",
    "We can see that there are no null values in the data set, so we don't have to do anything about it. However, there are several things that can improve our analysis: \n",
    "- convert PatientID to str. We don't need that data for this analysis, but I think it's a good idea to have a clean dataset. ID is not something we need to add/subtract/multiply, so it is better to store it as a string. \n",
    "- convert ScheduledDay and AppointmentDay to datetime objects so that we can find the delta between them. \n",
    "- create additional column with age bins\n",
    "- exclude Handcap (meaning is unclear)"
   ]
  },
  {
   "cell_type": "markdown",
   "metadata": {},
   "source": [
    "Now, let's check for any inconsistencies in the data by looking at the dataset summary: "
   ]
  },
  {
   "cell_type": "code",
   "execution_count": 5,
   "metadata": {},
   "outputs": [
    {
     "data": {
      "text/html": [
       "<div>\n",
       "<style scoped>\n",
       "    .dataframe tbody tr th:only-of-type {\n",
       "        vertical-align: middle;\n",
       "    }\n",
       "\n",
       "    .dataframe tbody tr th {\n",
       "        vertical-align: top;\n",
       "    }\n",
       "\n",
       "    .dataframe thead th {\n",
       "        text-align: right;\n",
       "    }\n",
       "</style>\n",
       "<table border=\"1\" class=\"dataframe\">\n",
       "  <thead>\n",
       "    <tr style=\"text-align: right;\">\n",
       "      <th></th>\n",
       "      <th>PatientId</th>\n",
       "      <th>AppointmentID</th>\n",
       "      <th>Age</th>\n",
       "      <th>Scholarship</th>\n",
       "      <th>Hipertension</th>\n",
       "      <th>Diabetes</th>\n",
       "      <th>Alcoholism</th>\n",
       "      <th>Handcap</th>\n",
       "      <th>SMS_received</th>\n",
       "    </tr>\n",
       "  </thead>\n",
       "  <tbody>\n",
       "    <tr>\n",
       "      <th>count</th>\n",
       "      <td>1.105270e+05</td>\n",
       "      <td>1.105270e+05</td>\n",
       "      <td>110527.000000</td>\n",
       "      <td>110527.000000</td>\n",
       "      <td>110527.000000</td>\n",
       "      <td>110527.000000</td>\n",
       "      <td>110527.000000</td>\n",
       "      <td>110527.000000</td>\n",
       "      <td>110527.000000</td>\n",
       "    </tr>\n",
       "    <tr>\n",
       "      <th>mean</th>\n",
       "      <td>1.474963e+14</td>\n",
       "      <td>5.675305e+06</td>\n",
       "      <td>37.088874</td>\n",
       "      <td>0.098266</td>\n",
       "      <td>0.197246</td>\n",
       "      <td>0.071865</td>\n",
       "      <td>0.030400</td>\n",
       "      <td>0.022248</td>\n",
       "      <td>0.321026</td>\n",
       "    </tr>\n",
       "    <tr>\n",
       "      <th>std</th>\n",
       "      <td>2.560949e+14</td>\n",
       "      <td>7.129575e+04</td>\n",
       "      <td>23.110205</td>\n",
       "      <td>0.297675</td>\n",
       "      <td>0.397921</td>\n",
       "      <td>0.258265</td>\n",
       "      <td>0.171686</td>\n",
       "      <td>0.161543</td>\n",
       "      <td>0.466873</td>\n",
       "    </tr>\n",
       "    <tr>\n",
       "      <th>min</th>\n",
       "      <td>3.921784e+04</td>\n",
       "      <td>5.030230e+06</td>\n",
       "      <td>-1.000000</td>\n",
       "      <td>0.000000</td>\n",
       "      <td>0.000000</td>\n",
       "      <td>0.000000</td>\n",
       "      <td>0.000000</td>\n",
       "      <td>0.000000</td>\n",
       "      <td>0.000000</td>\n",
       "    </tr>\n",
       "    <tr>\n",
       "      <th>25%</th>\n",
       "      <td>4.172614e+12</td>\n",
       "      <td>5.640286e+06</td>\n",
       "      <td>18.000000</td>\n",
       "      <td>0.000000</td>\n",
       "      <td>0.000000</td>\n",
       "      <td>0.000000</td>\n",
       "      <td>0.000000</td>\n",
       "      <td>0.000000</td>\n",
       "      <td>0.000000</td>\n",
       "    </tr>\n",
       "    <tr>\n",
       "      <th>50%</th>\n",
       "      <td>3.173184e+13</td>\n",
       "      <td>5.680573e+06</td>\n",
       "      <td>37.000000</td>\n",
       "      <td>0.000000</td>\n",
       "      <td>0.000000</td>\n",
       "      <td>0.000000</td>\n",
       "      <td>0.000000</td>\n",
       "      <td>0.000000</td>\n",
       "      <td>0.000000</td>\n",
       "    </tr>\n",
       "    <tr>\n",
       "      <th>75%</th>\n",
       "      <td>9.439172e+13</td>\n",
       "      <td>5.725524e+06</td>\n",
       "      <td>55.000000</td>\n",
       "      <td>0.000000</td>\n",
       "      <td>0.000000</td>\n",
       "      <td>0.000000</td>\n",
       "      <td>0.000000</td>\n",
       "      <td>0.000000</td>\n",
       "      <td>1.000000</td>\n",
       "    </tr>\n",
       "    <tr>\n",
       "      <th>max</th>\n",
       "      <td>9.999816e+14</td>\n",
       "      <td>5.790484e+06</td>\n",
       "      <td>115.000000</td>\n",
       "      <td>1.000000</td>\n",
       "      <td>1.000000</td>\n",
       "      <td>1.000000</td>\n",
       "      <td>1.000000</td>\n",
       "      <td>4.000000</td>\n",
       "      <td>1.000000</td>\n",
       "    </tr>\n",
       "  </tbody>\n",
       "</table>\n",
       "</div>"
      ],
      "text/plain": [
       "          PatientId  AppointmentID            Age    Scholarship  \\\n",
       "count  1.105270e+05   1.105270e+05  110527.000000  110527.000000   \n",
       "mean   1.474963e+14   5.675305e+06      37.088874       0.098266   \n",
       "std    2.560949e+14   7.129575e+04      23.110205       0.297675   \n",
       "min    3.921784e+04   5.030230e+06      -1.000000       0.000000   \n",
       "25%    4.172614e+12   5.640286e+06      18.000000       0.000000   \n",
       "50%    3.173184e+13   5.680573e+06      37.000000       0.000000   \n",
       "75%    9.439172e+13   5.725524e+06      55.000000       0.000000   \n",
       "max    9.999816e+14   5.790484e+06     115.000000       1.000000   \n",
       "\n",
       "        Hipertension       Diabetes     Alcoholism        Handcap  \\\n",
       "count  110527.000000  110527.000000  110527.000000  110527.000000   \n",
       "mean        0.197246       0.071865       0.030400       0.022248   \n",
       "std         0.397921       0.258265       0.171686       0.161543   \n",
       "min         0.000000       0.000000       0.000000       0.000000   \n",
       "25%         0.000000       0.000000       0.000000       0.000000   \n",
       "50%         0.000000       0.000000       0.000000       0.000000   \n",
       "75%         0.000000       0.000000       0.000000       0.000000   \n",
       "max         1.000000       1.000000       1.000000       4.000000   \n",
       "\n",
       "        SMS_received  \n",
       "count  110527.000000  \n",
       "mean        0.321026  \n",
       "std         0.466873  \n",
       "min         0.000000  \n",
       "25%         0.000000  \n",
       "50%         0.000000  \n",
       "75%         1.000000  \n",
       "max         1.000000  "
      ]
     },
     "execution_count": 5,
     "metadata": {},
     "output_type": "execute_result"
    }
   ],
   "source": [
    "df.describe()"
   ]
  },
  {
   "cell_type": "markdown",
   "metadata": {},
   "source": [
    "We might notice a very weird thing here - there is age -1. We expect that age is strictly positive number. If we check the dataset, we will see that there is only one record with age -1. It looks more like a human error so we should drop this row. "
   ]
  },
  {
   "cell_type": "code",
   "execution_count": 6,
   "metadata": {
    "scrolled": true
   },
   "outputs": [
    {
     "data": {
      "text/html": [
       "<div>\n",
       "<style scoped>\n",
       "    .dataframe tbody tr th:only-of-type {\n",
       "        vertical-align: middle;\n",
       "    }\n",
       "\n",
       "    .dataframe tbody tr th {\n",
       "        vertical-align: top;\n",
       "    }\n",
       "\n",
       "    .dataframe thead th {\n",
       "        text-align: right;\n",
       "    }\n",
       "</style>\n",
       "<table border=\"1\" class=\"dataframe\">\n",
       "  <thead>\n",
       "    <tr style=\"text-align: right;\">\n",
       "      <th></th>\n",
       "      <th>PatientId</th>\n",
       "      <th>AppointmentID</th>\n",
       "      <th>Gender</th>\n",
       "      <th>ScheduledDay</th>\n",
       "      <th>AppointmentDay</th>\n",
       "      <th>Age</th>\n",
       "      <th>Neighbourhood</th>\n",
       "      <th>Scholarship</th>\n",
       "      <th>Hipertension</th>\n",
       "      <th>Diabetes</th>\n",
       "      <th>Alcoholism</th>\n",
       "      <th>Handcap</th>\n",
       "      <th>SMS_received</th>\n",
       "      <th>No-show</th>\n",
       "    </tr>\n",
       "  </thead>\n",
       "  <tbody>\n",
       "    <tr>\n",
       "      <th>99832</th>\n",
       "      <td>4.659432e+14</td>\n",
       "      <td>5775010</td>\n",
       "      <td>F</td>\n",
       "      <td>2016-06-06T08:58:13Z</td>\n",
       "      <td>2016-06-06T00:00:00Z</td>\n",
       "      <td>-1</td>\n",
       "      <td>ROMÃO</td>\n",
       "      <td>0</td>\n",
       "      <td>0</td>\n",
       "      <td>0</td>\n",
       "      <td>0</td>\n",
       "      <td>0</td>\n",
       "      <td>0</td>\n",
       "      <td>No</td>\n",
       "    </tr>\n",
       "  </tbody>\n",
       "</table>\n",
       "</div>"
      ],
      "text/plain": [
       "          PatientId  AppointmentID Gender          ScheduledDay  \\\n",
       "99832  4.659432e+14        5775010      F  2016-06-06T08:58:13Z   \n",
       "\n",
       "             AppointmentDay  Age Neighbourhood  Scholarship  Hipertension  \\\n",
       "99832  2016-06-06T00:00:00Z   -1         ROMÃO            0             0   \n",
       "\n",
       "       Diabetes  Alcoholism  Handcap  SMS_received No-show  \n",
       "99832         0           0        0             0      No  "
      ]
     },
     "execution_count": 6,
     "metadata": {},
     "output_type": "execute_result"
    }
   ],
   "source": [
    "df[df.Age==-1]"
   ]
  },
  {
   "cell_type": "markdown",
   "metadata": {},
   "source": [
    "<a id=\"cleaning\"></a>\n",
    "### Data Cleaning\n",
    "\n",
    "<a href=\"#top\">Back to Top</a>"
   ]
  },
  {
   "cell_type": "markdown",
   "metadata": {},
   "source": [
    "#### Remove invalid age "
   ]
  },
  {
   "cell_type": "code",
   "execution_count": 7,
   "metadata": {},
   "outputs": [],
   "source": [
    "# drop invalid row\n",
    "df = df.drop(df[df.Age==-1].index)"
   ]
  },
  {
   "cell_type": "markdown",
   "metadata": {},
   "source": [
    "#### Convert patient and appointment ids to strings"
   ]
  },
  {
   "cell_type": "code",
   "execution_count": 8,
   "metadata": {},
   "outputs": [],
   "source": [
    "df.PatientId = df.PatientId.astype('int').astype('str')\n",
    "df.AppointmentID = df.AppointmentID.astype('str')"
   ]
  },
  {
   "cell_type": "markdown",
   "metadata": {},
   "source": [
    "#### Convert ScheduledDay and AppointmentDay to date"
   ]
  },
  {
   "cell_type": "markdown",
   "metadata": {},
   "source": [
    "This one is rather tricky. Since I want to count the number of days between the day the appointment was scheduled and the day of the actual appointment, I want to be able to subtract one from another. However, I noticed, that for the AppointmentDay the time is always 00:00:00. To prove that, we can select all unique values for the hour of the appointment, we will get zero: "
   ]
  },
  {
   "cell_type": "code",
   "execution_count": 9,
   "metadata": {
    "scrolled": true
   },
   "outputs": [
    {
     "data": {
      "text/plain": [
       "array([0])"
      ]
     },
     "execution_count": 9,
     "metadata": {},
     "output_type": "execute_result"
    }
   ],
   "source": [
    "(pd.to_datetime(df.AppointmentDay)).apply(lambda x: x.hour).unique()"
   ]
  },
  {
   "cell_type": "markdown",
   "metadata": {},
   "source": [
    "I decided to create additional column to store ScheduledDate because we might want to analyse the time of the day when the appointment was scheduled some time in the future, so we don't want to delete that completely. "
   ]
  },
  {
   "cell_type": "code",
   "execution_count": 10,
   "metadata": {},
   "outputs": [],
   "source": [
    "df['ScheduledDateTime'] = pd.to_datetime(df.ScheduledDay)\n",
    "df['ScheduledDay'] = pd.to_datetime(df.ScheduledDay).apply(lambda x: x.date())\n",
    "df['AppointmentDay'] = pd.to_datetime(df.AppointmentDay).apply(lambda x: x.date())"
   ]
  },
  {
   "cell_type": "markdown",
   "metadata": {},
   "source": [
    "#### Create column for days between scheduling and actual appointment"
   ]
  },
  {
   "cell_type": "markdown",
   "metadata": {},
   "source": [
    "Now we can create yet another column to store days between the scheduling date and the appointment date:"
   ]
  },
  {
   "cell_type": "code",
   "execution_count": 11,
   "metadata": {},
   "outputs": [],
   "source": [
    "df['DaysBetween'] = (df.AppointmentDay - df.ScheduledDay).apply(lambda x: x.days)"
   ]
  },
  {
   "cell_type": "markdown",
   "metadata": {},
   "source": [
    "One thing to check here is whether the data makes sense for all the records: i.e. we can't schedule the appointment AFTER the appointment date, so the date or scheduling should be less or equal to the appointment date. If this is not true, we should drop these records. "
   ]
  },
  {
   "cell_type": "code",
   "execution_count": 12,
   "metadata": {},
   "outputs": [
    {
     "data": {
      "text/html": [
       "<div>\n",
       "<style scoped>\n",
       "    .dataframe tbody tr th:only-of-type {\n",
       "        vertical-align: middle;\n",
       "    }\n",
       "\n",
       "    .dataframe tbody tr th {\n",
       "        vertical-align: top;\n",
       "    }\n",
       "\n",
       "    .dataframe thead th {\n",
       "        text-align: right;\n",
       "    }\n",
       "</style>\n",
       "<table border=\"1\" class=\"dataframe\">\n",
       "  <thead>\n",
       "    <tr style=\"text-align: right;\">\n",
       "      <th></th>\n",
       "      <th>ScheduledDay</th>\n",
       "      <th>AppointmentDay</th>\n",
       "      <th>DaysBetween</th>\n",
       "    </tr>\n",
       "  </thead>\n",
       "  <tbody>\n",
       "    <tr>\n",
       "      <th>27033</th>\n",
       "      <td>2016-05-10</td>\n",
       "      <td>2016-05-09</td>\n",
       "      <td>-1</td>\n",
       "    </tr>\n",
       "    <tr>\n",
       "      <th>55226</th>\n",
       "      <td>2016-05-18</td>\n",
       "      <td>2016-05-17</td>\n",
       "      <td>-1</td>\n",
       "    </tr>\n",
       "    <tr>\n",
       "      <th>64175</th>\n",
       "      <td>2016-05-05</td>\n",
       "      <td>2016-05-04</td>\n",
       "      <td>-1</td>\n",
       "    </tr>\n",
       "    <tr>\n",
       "      <th>71533</th>\n",
       "      <td>2016-05-11</td>\n",
       "      <td>2016-05-05</td>\n",
       "      <td>-6</td>\n",
       "    </tr>\n",
       "    <tr>\n",
       "      <th>72362</th>\n",
       "      <td>2016-05-04</td>\n",
       "      <td>2016-05-03</td>\n",
       "      <td>-1</td>\n",
       "    </tr>\n",
       "  </tbody>\n",
       "</table>\n",
       "</div>"
      ],
      "text/plain": [
       "      ScheduledDay AppointmentDay  DaysBetween\n",
       "27033   2016-05-10     2016-05-09           -1\n",
       "55226   2016-05-18     2016-05-17           -1\n",
       "64175   2016-05-05     2016-05-04           -1\n",
       "71533   2016-05-11     2016-05-05           -6\n",
       "72362   2016-05-04     2016-05-03           -1"
      ]
     },
     "execution_count": 12,
     "metadata": {},
     "output_type": "execute_result"
    }
   ],
   "source": [
    "df[df.DaysBetween<0][['ScheduledDay','AppointmentDay','DaysBetween']]"
   ]
  },
  {
   "cell_type": "code",
   "execution_count": 13,
   "metadata": {},
   "outputs": [],
   "source": [
    "# actually drop these rows\n",
    "df = df.drop(df[df.DaysBetween<0].index)"
   ]
  },
  {
   "cell_type": "markdown",
   "metadata": {},
   "source": [
    "#### Creating age bins"
   ]
  },
  {
   "cell_type": "markdown",
   "metadata": {},
   "source": [
    "Let's first explore the age column more closely"
   ]
  },
  {
   "cell_type": "code",
   "execution_count": 14,
   "metadata": {},
   "outputs": [
    {
     "data": {
      "text/plain": [
       "count    110521.000000\n",
       "mean         37.089386\n",
       "std          23.109885\n",
       "min           0.000000\n",
       "25%          18.000000\n",
       "50%          37.000000\n",
       "75%          55.000000\n",
       "max         115.000000\n",
       "Name: Age, dtype: float64"
      ]
     },
     "execution_count": 14,
     "metadata": {},
     "output_type": "execute_result"
    }
   ],
   "source": [
    "df.Age.describe()"
   ]
  },
  {
   "cell_type": "code",
   "execution_count": 15,
   "metadata": {
    "scrolled": true
   },
   "outputs": [
    {
     "data": {
      "image/png": "[encoded data removed]",
      "text/plain": [
       "<Figure size 432x288 with 1 Axes>"
      ]
     },
     "metadata": {
      "needs_background": "light"
     },
     "output_type": "display_data"
    }
   ],
   "source": [
    "df.Age.hist();"
   ]
  },
  {
   "cell_type": "markdown",
   "metadata": {},
   "source": [
    "It might look reasonable to create age bins based on quartiles. However, in this case it makes more sense to use more 'natural' categories. The following bin edges were set after several experiments with question 4 to better describe the distribution of ages. "
   ]
  },
  {
   "cell_type": "code",
   "execution_count": 16,
   "metadata": {},
   "outputs": [],
   "source": [
    "bin_edges = [0, 14, 18, 25, 35, 55, 75, 85,115]\n",
    "bin_names = ['0-14','15-18','19-25','26-35','36-55','56-75', '76-85','86-115']\n",
    "df['Age_group'] = pd.cut(df.Age, bin_edges, labels=bin_names)"
   ]
  },
  {
   "cell_type": "code",
   "execution_count": 17,
   "metadata": {},
   "outputs": [],
   "source": [
    "df.drop(labels=['Handcap'], inplace=True, axis=1)"
   ]
  },
  {
   "cell_type": "code",
   "execution_count": 18,
   "metadata": {},
   "outputs": [],
   "source": [
    "#### Encode no-show"
   ]
  },
  {
   "cell_type": "code",
   "execution_count": 19,
   "metadata": {},
   "outputs": [],
   "source": [
    "df['No-show']=df['No-show']=='Yes'"
   ]
  },
  {
   "cell_type": "markdown",
   "metadata": {},
   "source": [
    "<a id='eda'></a>\n",
    "## Exploratory Data Analysis"
   ]
  },
  {
   "cell_type": "markdown",
   "metadata": {},
   "source": [
    "<a id='overview'></a>\n",
    "### 0. Data Overview\n",
    "\n",
    "<a href=\"#top\">Back to Top</a>"
   ]
  },
  {
   "cell_type": "markdown",
   "metadata": {},
   "source": [
    "The first step is to take a look at now clean dataset and identify its properties: "
   ]
  },
  {
   "cell_type": "code",
   "execution_count": 20,
   "metadata": {},
   "outputs": [
    {
     "data": {
      "text/html": [
       "<div>\n",
       "<style scoped>\n",
       "    .dataframe tbody tr th:only-of-type {\n",
       "        vertical-align: middle;\n",
       "    }\n",
       "\n",
       "    .dataframe tbody tr th {\n",
       "        vertical-align: top;\n",
       "    }\n",
       "\n",
       "    .dataframe thead th {\n",
       "        text-align: right;\n",
       "    }\n",
       "</style>\n",
       "<table border=\"1\" class=\"dataframe\">\n",
       "  <thead>\n",
       "    <tr style=\"text-align: right;\">\n",
       "      <th></th>\n",
       "      <th>Age</th>\n",
       "      <th>Scholarship</th>\n",
       "      <th>Hipertension</th>\n",
       "      <th>Diabetes</th>\n",
       "      <th>Alcoholism</th>\n",
       "      <th>SMS_received</th>\n",
       "      <th>DaysBetween</th>\n",
       "    </tr>\n",
       "  </thead>\n",
       "  <tbody>\n",
       "    <tr>\n",
       "      <th>count</th>\n",
       "      <td>110521.000000</td>\n",
       "      <td>110521.000000</td>\n",
       "      <td>110521.000000</td>\n",
       "      <td>110521.000000</td>\n",
       "      <td>110521.000000</td>\n",
       "      <td>110521.000000</td>\n",
       "      <td>110521.000000</td>\n",
       "    </tr>\n",
       "    <tr>\n",
       "      <th>mean</th>\n",
       "      <td>37.089386</td>\n",
       "      <td>0.098271</td>\n",
       "      <td>0.197257</td>\n",
       "      <td>0.071869</td>\n",
       "      <td>0.030401</td>\n",
       "      <td>0.321043</td>\n",
       "      <td>10.184345</td>\n",
       "    </tr>\n",
       "    <tr>\n",
       "      <th>std</th>\n",
       "      <td>23.109885</td>\n",
       "      <td>0.297682</td>\n",
       "      <td>0.397929</td>\n",
       "      <td>0.258272</td>\n",
       "      <td>0.171690</td>\n",
       "      <td>0.466879</td>\n",
       "      <td>15.255153</td>\n",
       "    </tr>\n",
       "    <tr>\n",
       "      <th>min</th>\n",
       "      <td>0.000000</td>\n",
       "      <td>0.000000</td>\n",
       "      <td>0.000000</td>\n",
       "      <td>0.000000</td>\n",
       "      <td>0.000000</td>\n",
       "      <td>0.000000</td>\n",
       "      <td>0.000000</td>\n",
       "    </tr>\n",
       "    <tr>\n",
       "      <th>25%</th>\n",
       "      <td>18.000000</td>\n",
       "      <td>0.000000</td>\n",
       "      <td>0.000000</td>\n",
       "      <td>0.000000</td>\n",
       "      <td>0.000000</td>\n",
       "      <td>0.000000</td>\n",
       "      <td>0.000000</td>\n",
       "    </tr>\n",
       "    <tr>\n",
       "      <th>50%</th>\n",
       "      <td>37.000000</td>\n",
       "      <td>0.000000</td>\n",
       "      <td>0.000000</td>\n",
       "      <td>0.000000</td>\n",
       "      <td>0.000000</td>\n",
       "      <td>0.000000</td>\n",
       "      <td>4.000000</td>\n",
       "    </tr>\n",
       "    <tr>\n",
       "      <th>75%</th>\n",
       "      <td>55.000000</td>\n",
       "      <td>0.000000</td>\n",
       "      <td>0.000000</td>\n",
       "      <td>0.000000</td>\n",
       "      <td>0.000000</td>\n",
       "      <td>1.000000</td>\n",
       "      <td>15.000000</td>\n",
       "    </tr>\n",
       "    <tr>\n",
       "      <th>max</th>\n",
       "      <td>115.000000</td>\n",
       "      <td>1.000000</td>\n",
       "      <td>1.000000</td>\n",
       "      <td>1.000000</td>\n",
       "      <td>1.000000</td>\n",
       "      <td>1.000000</td>\n",
       "      <td>179.000000</td>\n",
       "    </tr>\n",
       "  </tbody>\n",
       "</table>\n",
       "</div>"
      ],
      "text/plain": [
       "                 Age    Scholarship   Hipertension       Diabetes  \\\n",
       "count  110521.000000  110521.000000  110521.000000  110521.000000   \n",
       "mean       37.089386       0.098271       0.197257       0.071869   \n",
       "std        23.109885       0.297682       0.397929       0.258272   \n",
       "min         0.000000       0.000000       0.000000       0.000000   \n",
       "25%        18.000000       0.000000       0.000000       0.000000   \n",
       "50%        37.000000       0.000000       0.000000       0.000000   \n",
       "75%        55.000000       0.000000       0.000000       0.000000   \n",
       "max       115.000000       1.000000       1.000000       1.000000   \n",
       "\n",
       "          Alcoholism   SMS_received    DaysBetween  \n",
       "count  110521.000000  110521.000000  110521.000000  \n",
       "mean        0.030401       0.321043      10.184345  \n",
       "std         0.171690       0.466879      15.255153  \n",
       "min         0.000000       0.000000       0.000000  \n",
       "25%         0.000000       0.000000       0.000000  \n",
       "50%         0.000000       0.000000       4.000000  \n",
       "75%         0.000000       1.000000      15.000000  \n",
       "max         1.000000       1.000000     179.000000  "
      ]
     },
     "execution_count": 20,
     "metadata": {},
     "output_type": "execute_result"
    }
   ],
   "source": [
    "df.describe()"
   ]
  },
  {
   "cell_type": "markdown",
   "metadata": {},
   "source": [
    "Some observations: \n",
    "- Only 9.8% of the appointments were made by the patients receiving a scholarship \n",
    "- 20% of the appointment were made by the patients with hypertension \n",
    "- Only 7% of the appointments were made by people with diabetes \n",
    "- 3 % of the appointments were made by people suffering from alcoholism\n",
    "- For 32% of the appointments there was sent an SMS reminder \n",
    "- 50% of the appointments were scheduled no more than 4 days in advance \n",
    "- The earliest appointment was made 179 days prior!"
   ]
  },
  {
   "cell_type": "markdown",
   "metadata": {},
   "source": [
    "<a id='gender'></a>\n",
    "### 1. What gender is more likely to skip the appointment: men or women?  \n",
    "<a href=\"#top\">Back to Top</a>"
   ]
  },
  {
   "cell_type": "markdown",
   "metadata": {},
   "source": [
    "In order to compare that we want to calculate total number and percentage of not shows: "
   ]
  },
  {
   "cell_type": "code",
   "execution_count": 21,
   "metadata": {},
   "outputs": [],
   "source": [
    "total_no_show = sum(df['No-show'])\n",
    "total_show = len(df)-total_no_show"
   ]
  },
  {
   "cell_type": "code",
   "execution_count": 22,
   "metadata": {
    "scrolled": true
   },
   "outputs": [
    {
     "name": "stdout",
     "output_type": "stream",
     "text": [
      "With the total of 110521 appointments, there were 22314 no shows, which is 0.2 from the total\n",
      "65.0% of the appointments were made by women\n"
     ]
    }
   ],
   "source": [
    "print(\"With the total of {} appointments, there were {} no shows, which is {} from the total\".format(len(df), \n",
    "                                                                                total_no_show, \n",
    "                                                                                round(total_no_show/len(df),2)))\n",
    "print(\"{}% of the appointments were made by women\".format(round(100*sum(df.Gender=='F')/len(df),2)))"
   ]
  },
  {
   "cell_type": "markdown",
   "metadata": {},
   "source": [
    "In the next step we will calculate the % of no-shows in two groups: males and females. "
   ]
  },
  {
   "cell_type": "code",
   "execution_count": 23,
   "metadata": {},
   "outputs": [],
   "source": [
    "gender_groups = df[['No-show','Gender','AppointmentID']].groupby(['No-show','Gender'], as_index=False).count()"
   ]
  },
  {
   "cell_type": "code",
   "execution_count": 24,
   "metadata": {},
   "outputs": [],
   "source": [
    "gender_groups.rename(columns={'AppointmentID':'counts'},inplace=True)\n",
    "totals = gender_groups.groupby('Gender').sum()\n",
    "no_show_rate_gender= gender_groups[gender_groups['No-show']][['Gender','counts']].set_index('Gender').divide(totals)"
   ]
  },
  {
   "cell_type": "code",
   "execution_count": 25,
   "metadata": {},
   "outputs": [],
   "source": [
    "def bar_plot_by_index(df,column_name,title=\"\", size=(8,4)):\n",
    "    width=0.35\n",
    "    ind = np.array(range(len(df.index)))\n",
    "    fig = plt.figure(figsize=size)\n",
    "    ax = fig.add_subplot(111)\n",
    "    red_bars = ax.bar(ind, df[column_name], width=width, color='cadetblue');\n",
    "    labels = list(df.index)\n",
    "    plt.xticks(ind, labels, rotation=45);\n",
    "    plt.title(title);"
   ]
  },
  {
   "cell_type": "code",
   "execution_count": 26,
   "metadata": {
    "scrolled": false
   },
   "outputs": [
    {
     "data": {
      "image/png": "[encoded data removed]",
      "text/plain": [
       "<Figure size 360x216 with 1 Axes>"
      ]
     },
     "metadata": {
      "needs_background": "light"
     },
     "output_type": "display_data"
    }
   ],
   "source": [
    "bar_plot_by_index(no_show_rate_gender, 'counts', 'No-show rates by gender', (5,3))"
   ]
  },
  {
   "cell_type": "markdown",
   "metadata": {},
   "source": [
    "So, it looks like gender doesn't have any influence on whether the patient will show up on the scheduled day, and there are more important factors that influence that."
   ]
  },
  {
   "cell_type": "markdown",
   "metadata": {},
   "source": [
    "<a id='daysbefore'></a>\n",
    "### 2. What is the average number of days between the scheduling and actual appointment in both groups?\n",
    "\n",
    "<a href=\"#top\">Back to Top</a>"
   ]
  },
  {
   "cell_type": "markdown",
   "metadata": {},
   "source": [
    "#### General picture"
   ]
  },
  {
   "cell_type": "markdown",
   "metadata": {},
   "source": [
    "First, let's look at when people typically schedule there appointments (in terms of number of days prior to the appointment): "
   ]
  },
  {
   "cell_type": "code",
   "execution_count": 27,
   "metadata": {},
   "outputs": [
    {
     "data": {
      "image/png": "[encoded data removed]",
      "text/plain": [
       "<Figure size 432x288 with 1 Axes>"
      ]
     },
     "metadata": {
      "needs_background": "light"
     },
     "output_type": "display_data"
    }
   ],
   "source": [
    "df.DaysBetween.hist(edgecolor='black', bins=30);"
   ]
  },
  {
   "cell_type": "code",
   "execution_count": 28,
   "metadata": {
    "scrolled": false
   },
   "outputs": [
    {
     "data": {
      "text/plain": [
       "count    110521.000000\n",
       "mean         10.184345\n",
       "std          15.255153\n",
       "min           0.000000\n",
       "25%           0.000000\n",
       "50%           4.000000\n",
       "75%          15.000000\n",
       "max         179.000000\n",
       "Name: DaysBetween, dtype: float64"
      ]
     },
     "execution_count": 28,
     "metadata": {},
     "output_type": "execute_result"
    }
   ],
   "source": [
    "df.DaysBetween.describe()"
   ]
  },
  {
   "cell_type": "markdown",
   "metadata": {},
   "source": [
    "####  T-test for the means"
   ]
  },
  {
   "cell_type": "markdown",
   "metadata": {},
   "source": [
    "Average number of days before the actual appointment for those who didn't show up: "
   ]
  },
  {
   "cell_type": "code",
   "execution_count": 29,
   "metadata": {
    "scrolled": true
   },
   "outputs": [
    {
     "data": {
      "text/plain": [
       "15.835484449224701"
      ]
     },
     "execution_count": 29,
     "metadata": {},
     "output_type": "execute_result"
    }
   ],
   "source": [
    "mu1 = df[df['No-show']].DaysBetween.mean()\n",
    "mu1"
   ]
  },
  {
   "cell_type": "markdown",
   "metadata": {},
   "source": [
    "With SD:"
   ]
  },
  {
   "cell_type": "code",
   "execution_count": 30,
   "metadata": {},
   "outputs": [
    {
     "data": {
      "text/plain": [
       "16.605599528659894"
      ]
     },
     "execution_count": 30,
     "metadata": {},
     "output_type": "execute_result"
    }
   ],
   "source": [
    "std1 = df[df['No-show']].DaysBetween.std()\n",
    "std1"
   ]
  },
  {
   "cell_type": "markdown",
   "metadata": {},
   "source": [
    "Average number of days before the actual appointment for those who showed up:"
   ]
  },
  {
   "cell_type": "code",
   "execution_count": 31,
   "metadata": {
    "scrolled": true
   },
   "outputs": [
    {
     "data": {
      "text/plain": [
       "8.754758692620767"
      ]
     },
     "execution_count": 31,
     "metadata": {},
     "output_type": "execute_result"
    }
   ],
   "source": [
    "mu2 = df[~(df['No-show'])].DaysBetween.mean()\n",
    "mu2"
   ]
  },
  {
   "cell_type": "markdown",
   "metadata": {},
   "source": [
    "With SD:"
   ]
  },
  {
   "cell_type": "code",
   "execution_count": 32,
   "metadata": {},
   "outputs": [
    {
     "data": {
      "text/plain": [
       "14.550450447862671"
      ]
     },
     "execution_count": 32,
     "metadata": {},
     "output_type": "execute_result"
    }
   ],
   "source": [
    "std2 = df[~(df['No-show'])].DaysBetween.std()\n",
    "std2"
   ]
  },
  {
   "cell_type": "markdown",
   "metadata": {},
   "source": [
    "Here, we should check how significant this difference is. We need to make several assumptions here: \n",
    "- two populations have the same variance\n",
    "- populations are normally distributed\n",
    "- values are independent"
   ]
  },
  {
   "cell_type": "markdown",
   "metadata": {},
   "source": [
    "The null hypothesis is that the difference between the population means is 0. First, we calculate the statistic: "
   ]
  },
  {
   "cell_type": "code",
   "execution_count": 33,
   "metadata": {},
   "outputs": [
    {
     "data": {
      "text/plain": [
       "7.080725756603934"
      ]
     },
     "execution_count": 33,
     "metadata": {},
     "output_type": "execute_result"
    }
   ],
   "source": [
    "mu1-mu2"
   ]
  },
  {
   "cell_type": "markdown",
   "metadata": {},
   "source": [
    "Calculate n1 and n2"
   ]
  },
  {
   "cell_type": "code",
   "execution_count": 34,
   "metadata": {},
   "outputs": [],
   "source": [
    "n1 = len(df[df['No-show']])\n",
    "n2 = len(df[~(df['No-show'])])"
   ]
  },
  {
   "cell_type": "markdown",
   "metadata": {},
   "source": [
    "We set $\\alpha = .05$, then we should reject H0 if z-score < -1.96 or z-score > +1.96.\n",
    "\n",
    "$$z=\\frac{(\\bar{x_1}-\\bar{x_2}) - (\\mu_1-\\mu_2) }{\\sqrt{  \\frac{\\sigma_1^2}{n_1} +\\frac{\\sigma_2^2}{n_2}}} =\n",
    "\\frac{(15.8-8.8) - 0 }{\\sqrt{  \\frac{16.6^2}{22314} +\\frac{14.6^2}{88207}}}\n",
    "$$"
   ]
  },
  {
   "cell_type": "code",
   "execution_count": 35,
   "metadata": {},
   "outputs": [
    {
     "data": {
      "text/plain": [
       "58.286475071649335"
      ]
     },
     "execution_count": 35,
     "metadata": {},
     "output_type": "execute_result"
    }
   ],
   "source": [
    "(mu1-mu2)/((std1**2)/n1+(std2**2)/n2)**(1/2)"
   ]
  },
  {
   "cell_type": "markdown",
   "metadata": {},
   "source": [
    "We have to reject the null hypothesis since 58 is far outside of the confidence interval. We can conclude, that the number of days between scheduling and actual appointment indeed make difference."
   ]
  },
  {
   "cell_type": "markdown",
   "metadata": {},
   "source": [
    "#### Visualisations"
   ]
  },
  {
   "cell_type": "markdown",
   "metadata": {},
   "source": [
    "Lastly, we want to plot this difference. In this case, a boxplot looks like an appropriate way to compare the two samples visually."
   ]
  },
  {
   "cell_type": "code",
   "execution_count": 36,
   "metadata": {
    "scrolled": false
   },
   "outputs": [
    {
     "data": {
      "image/png": "[encoded data removed]",
      "text/plain": [
       "<Figure size 720x432 with 1 Axes>"
      ]
     },
     "metadata": {
      "needs_background": "light"
     },
     "output_type": "display_data"
    }
   ],
   "source": [
    "df.boxplot(column='DaysBetween',by='No-show',figsize=(10,6));"
   ]
  },
  {
   "cell_type": "markdown",
   "metadata": {},
   "source": [
    "<a id='conditions'></a>\n",
    "### 3. What condition (Hipertension, Diabetis, Alcoholism) has the lowest number of no-shows?  \n",
    "\n",
    "<a href=\"#top\">Back to Top</a>"
   ]
  },
  {
   "cell_type": "markdown",
   "metadata": {},
   "source": [
    "The first thing to check is whether all these events are disjoint or we have patients that have 2 or even all 3 of these conditions. "
   ]
  },
  {
   "cell_type": "code",
   "execution_count": 37,
   "metadata": {},
   "outputs": [
    {
     "data": {
      "text/plain": [
       "6.91"
      ]
     },
     "execution_count": 37,
     "metadata": {},
     "output_type": "execute_result"
    }
   ],
   "source": [
    "more_than_one_condition_sel = (df.Hipertension+df.Diabetes+df.Alcoholism)>1\n",
    "round(100*sum(more_than_one_condition_sel)/len(df),2)"
   ]
  },
  {
   "cell_type": "markdown",
   "metadata": {},
   "source": [
    "7% of the patients have more than one condition. It's a large enough group, and I decided to make it a separate group, so in the end we have: \n",
    "- people with alcoholism\n",
    "- people with hypertension\n",
    "- people with diabetes\n",
    "- people with more than one condition\n",
    "- people without any of these conditions"
   ]
  },
  {
   "cell_type": "markdown",
   "metadata": {},
   "source": [
    "For this last group it also makes sense to check what conditions are combined most of the time. Since we're comparing only 3 conditions we can have only 3 pairs (because $\\binom{C}{k}$). So, for various combinations of conditions we have the following percentages: "
   ]
  },
  {
   "cell_type": "code",
   "execution_count": 38,
   "metadata": {},
   "outputs": [
    {
     "name": "stdout",
     "output_type": "stream",
     "text": [
      "Hypertension and Diabetes: 84.97\n",
      "Hypertension and Alcoholism: 17.39 \n",
      "Diabetes and Alcoholism: 4.35\n",
      "All three: 3\n"
     ]
    }
   ],
   "source": [
    "print('Hypertension and Diabetes: {}\\nHypertension and Alcoholism: {} \\nDiabetes and Alcoholism: {}\\nAll three: {}'.\n",
    "      format(round(100*sum((df.Hipertension+df.Diabetes)>1)/sum(more_than_one_condition_sel),2),\n",
    "             round(100*sum((df.Hipertension+df.Alcoholism)>1)/sum(more_than_one_condition_sel),2),\n",
    "             round(100*sum((df.Diabetes+df.Alcoholism)>1)/sum(more_than_one_condition_sel),2),\n",
    "             round(100*sum((df.Diabetes+df.Alcoholism+df.Hipertension)>2)/sum(more_than_one_condition_sel)),2))"
   ]
  },
  {
   "cell_type": "markdown",
   "metadata": {},
   "source": [
    "The major group in the group of people with more than one condition is 'hypertension + diabetes'. However, here we will not break these into separate groups, but we'll just keep this in mind if we find something interesting in the general group. \n",
    "First, we need to encode the data to make the groupings and counts easier: "
   ]
  },
  {
   "cell_type": "code",
   "execution_count": 39,
   "metadata": {},
   "outputs": [],
   "source": [
    "df['conditions']=None"
   ]
  },
  {
   "cell_type": "code",
   "execution_count": 40,
   "metadata": {},
   "outputs": [],
   "source": [
    "# encode conditions and make all the groups disjoint\n",
    "df.loc[(df.Diabetes==1)&(~more_than_one_condition_sel),'conditions']='diabetes'\n",
    "df.loc[(df.Hipertension==1)&(~more_than_one_condition_sel),'conditions']='hypertension'\n",
    "df.loc[(df.Alcoholism==1)&(~more_than_one_condition_sel),'conditions']='alcoholism'\n",
    "df.loc[more_than_one_condition_sel,'conditions']='combo'\n",
    "df.loc[df.conditions.isnull(),'conditions']='other'"
   ]
  },
  {
   "cell_type": "code",
   "execution_count": 41,
   "metadata": {},
   "outputs": [],
   "source": [
    "groups = df[['conditions','No-show','AppointmentID']].groupby(['conditions','No-show'], as_index=False).count()\n",
    "groups.rename(columns={'AppointmentID':'counts'},inplace=True)"
   ]
  },
  {
   "cell_type": "code",
   "execution_count": 42,
   "metadata": {},
   "outputs": [],
   "source": [
    "totals = groups.groupby('conditions').sum()"
   ]
  },
  {
   "cell_type": "code",
   "execution_count": 43,
   "metadata": {
    "scrolled": true
   },
   "outputs": [],
   "source": [
    "no_show_rate_cond= groups[groups['No-show']][['conditions','counts']].set_index('conditions').divide(totals)"
   ]
  },
  {
   "cell_type": "code",
   "execution_count": 44,
   "metadata": {},
   "outputs": [],
   "source": [
    "def bar_plot_by_index(df,column_name,title=\"\"):\n",
    "    width=0.35\n",
    "    ind = np.array(range(len(df.index)))\n",
    "    fig = plt.figure(figsize=(8, 4))\n",
    "    ax = fig.add_subplot(111)\n",
    "    red_bars = ax.bar(ind, df[column_name], width=width, color='cadetblue');\n",
    "    labels = list(df.index)\n",
    "    plt.xticks(ind, labels, rotation=45);\n",
    "    plt.title(title);\n",
    "    "
   ]
  },
  {
   "cell_type": "code",
   "execution_count": 45,
   "metadata": {},
   "outputs": [
    {
     "data": {
      "image/png": "[encoded data removed]",
      "text/plain": [
       "<Figure size 576x288 with 1 Axes>"
      ]
     },
     "metadata": {
      "needs_background": "light"
     },
     "output_type": "display_data"
    }
   ],
   "source": [
    "bar_plot_by_index(no_show_rate_cond, 'counts', 'No-show rate by condition')"
   ]
  },
  {
   "cell_type": "markdown",
   "metadata": {},
   "source": [
    "<b>Observations</b>:  \n",
    "People with the combination of conditions and with hypertension are just slightly less likely to skip their appointment, whereas for the other groups the rates are quite similar. However, this difference doesn't looks too big, so this factor is likely to have very weak relationship to showing/not showing up. "
   ]
  },
  {
   "cell_type": "markdown",
   "metadata": {},
   "source": [
    "<a id='age_groups'></a>\n",
    "### 4. What age groups have the lowest/highest rate of no shows?    \n",
    "<a href=\"#top\">Back to Top</a>"
   ]
  },
  {
   "cell_type": "code",
   "execution_count": 46,
   "metadata": {},
   "outputs": [
    {
     "data": {
      "text/html": [
       "<div>\n",
       "<style scoped>\n",
       "    .dataframe tbody tr th:only-of-type {\n",
       "        vertical-align: middle;\n",
       "    }\n",
       "\n",
       "    .dataframe tbody tr th {\n",
       "        vertical-align: top;\n",
       "    }\n",
       "\n",
       "    .dataframe thead th {\n",
       "        text-align: right;\n",
       "    }\n",
       "</style>\n",
       "<table border=\"1\" class=\"dataframe\">\n",
       "  <thead>\n",
       "    <tr style=\"text-align: right;\">\n",
       "      <th></th>\n",
       "      <th>counts</th>\n",
       "    </tr>\n",
       "    <tr>\n",
       "      <th>Age_group</th>\n",
       "      <th></th>\n",
       "    </tr>\n",
       "  </thead>\n",
       "  <tbody>\n",
       "    <tr>\n",
       "      <th>0-14</th>\n",
       "      <td>0.217376</td>\n",
       "    </tr>\n",
       "    <tr>\n",
       "      <th>15-18</th>\n",
       "      <td>0.253343</td>\n",
       "    </tr>\n",
       "    <tr>\n",
       "      <th>19-25</th>\n",
       "      <td>0.253725</td>\n",
       "    </tr>\n",
       "    <tr>\n",
       "      <th>26-35</th>\n",
       "      <td>0.227853</td>\n",
       "    </tr>\n",
       "    <tr>\n",
       "      <th>36-55</th>\n",
       "      <td>0.197048</td>\n",
       "    </tr>\n",
       "    <tr>\n",
       "      <th>56-75</th>\n",
       "      <td>0.155255</td>\n",
       "    </tr>\n",
       "    <tr>\n",
       "      <th>76-85</th>\n",
       "      <td>0.159300</td>\n",
       "    </tr>\n",
       "    <tr>\n",
       "      <th>86-115</th>\n",
       "      <td>0.168103</td>\n",
       "    </tr>\n",
       "  </tbody>\n",
       "</table>\n",
       "</div>"
      ],
      "text/plain": [
       "             counts\n",
       "Age_group          \n",
       "0-14       0.217376\n",
       "15-18      0.253343\n",
       "19-25      0.253725\n",
       "26-35      0.227853\n",
       "36-55      0.197048\n",
       "56-75      0.155255\n",
       "76-85      0.159300\n",
       "86-115     0.168103"
      ]
     },
     "execution_count": 46,
     "metadata": {},
     "output_type": "execute_result"
    }
   ],
   "source": [
    "age_groups = df[['Age_group','No-show','AppointmentID']].groupby(['Age_group','No-show'], as_index=False).count()\n",
    "age_groups.rename(columns={'AppointmentID':'counts'},inplace=True)\n",
    "age_totals = age_groups[['Age_group','counts']].groupby('Age_group').sum()\n",
    "no_show_rate = age_groups[age_groups['No-show']][['Age_group','counts']].set_index('Age_group').divide(age_totals)\n",
    "no_show_rate"
   ]
  },
  {
   "cell_type": "code",
   "execution_count": 47,
   "metadata": {},
   "outputs": [
    {
     "data": {
      "image/png": "[encoded data removed]",
      "text/plain": [
       "<Figure size 576x288 with 1 Axes>"
      ]
     },
     "metadata": {
      "needs_background": "light"
     },
     "output_type": "display_data"
    }
   ],
   "source": [
    "bar_plot_by_index(no_show_rate, 'counts')"
   ]
  },
  {
   "cell_type": "markdown",
   "metadata": {},
   "source": [
    "<b>Observations</b>:  \n",
    "Younger people tend to show higher no-show rate - maybe this is due to the fact, that the period from 15 to 35 is the period when people have the most active life and when they are healthy. So, they can care less about their health. So, this variable can be in some relationship with the outcome variable. "
   ]
  },
  {
   "cell_type": "markdown",
   "metadata": {},
   "source": [
    "<a id='cond_age'></a>\n",
    "### 5. What conditions dominate in different age groups? \n",
    "<a href=\"#top\">Back to Top</a>"
   ]
  },
  {
   "cell_type": "markdown",
   "metadata": {},
   "source": [
    "Another thing that got me interested is whether there is a difference in what diseases dominate among people from different age groups, so I decided to create yet another visualisation to explore that. The best way to compare age groups is to create a bar plot where for each age group we would be able to see the % of patients with certain disease (or combo). We don't consider \"other\" conditions since it's not informative (we yet must keep in mind that this is the majority of the patients."
   ]
  },
  {
   "cell_type": "code",
   "execution_count": 48,
   "metadata": {},
   "outputs": [],
   "source": [
    "# here we select columns and make the necessray groupings\n",
    "# IMPORTANT: here we count number of unique patients per groupt rather than the number of appointments\n",
    "df_g = df[['Age_group','conditions','PatientId']].groupby(['Age_group','conditions'], as_index=False).agg(lambda x: x.nunique())"
   ]
  },
  {
   "cell_type": "code",
   "execution_count": 49,
   "metadata": {},
   "outputs": [],
   "source": [
    "# pivot table to use conditions as columns \n",
    "df_g = df_g.pivot(index = 'Age_group', columns = 'conditions', values='PatientId').fillna(0).drop('other',axis=1)"
   ]
  },
  {
   "cell_type": "code",
   "execution_count": 50,
   "metadata": {},
   "outputs": [],
   "source": [
    "# calculate totals for each age group\n",
    "totals = df_g.sum(axis=1)"
   ]
  },
  {
   "cell_type": "code",
   "execution_count": 51,
   "metadata": {},
   "outputs": [],
   "source": [
    "# divide each column by the totals, so that we have relative numbers\n",
    "df_g=df_g.divide(totals,axis=0)*100"
   ]
  },
  {
   "cell_type": "code",
   "execution_count": 52,
   "metadata": {
    "scrolled": false
   },
   "outputs": [
    {
     "data": {
      "image/png": "[encoded data removed]",
      "text/plain": [
       "<Figure size 720x432 with 1 Axes>"
      ]
     },
     "metadata": {
      "needs_background": "light"
     },
     "output_type": "display_data"
    }
   ],
   "source": [
    "# create bar plot\n",
    "df_g.plot.bar(figsize=(10,6));\n",
    "plt.title(\"Health conditions proportions by age group\");\n",
    "plt.xlabel(\"Age group\");\n",
    "plt.ylabel(\"% from the total\");"
   ]
  },
  {
   "cell_type": "markdown",
   "metadata": {},
   "source": [
    "<b>Observations:</b>  \n",
    "- We clearly see, that the conditions are related to age\n",
    "- For the younger people (under 36) alcoholism has rather high frequency \n",
    "- For teenagers aged 15-18 the most frequent condition is diabetes. \n",
    "- Starting from the age 26-35 hypertension starts to dominate over all other conditions and reaches is relative maximum in the oldest group\n",
    "- The percentage of patients with hypertension increases with age\n",
    "- For older groups the % of patients with diabetes or alcoholism is smaller than % of patients with other conditions. Possible reasons: \n",
    "    - Those people tend to have a combination of conditions\n",
    "    - A lot of them just don't live up to that age \n",
    "- Older groups more often have the combo: two or even three of the mentions conditions"
   ]
  },
  {
   "cell_type": "markdown",
   "metadata": {},
   "source": [
    "<a id=\"additional\"></a>\n",
    "### Additional exploration: alcoholism in age group 0-14? Scary observations"
   ]
  },
  {
   "cell_type": "markdown",
   "metadata": {},
   "source": [
    "The case with high percentage of alcoholism among patients aged 0-14 looks very weird and requires additional exploration. First, let's select take the subset of the data we're interested in: patients aged 0-14 that have alcoholism: their age, patient id, appointment id, gender and neighbourhood."
   ]
  },
  {
   "cell_type": "code",
   "execution_count": 53,
   "metadata": {},
   "outputs": [
    {
     "name": "stdout",
     "output_type": "stream",
     "text": [
      "Total records: 28\n",
      "Total patients: 13\n"
     ]
    }
   ],
   "source": [
    "col_of_interest = ['Age','PatientId','AppointmentID','No-show','Gender', 'Neighbourhood','AppointmentDay']\n",
    "young_alco = df[((df.Age_group=='0-14')|(df.Age_group=='15-18'))&(df.Alcoholism==1)][col_of_interest]\n",
    "print(\"Total records: {}\".format(len(young_alco)))\n",
    "print(\"Total patients: {}\".format(young_alco.PatientId.nunique()))"
   ]
  },
  {
   "cell_type": "code",
   "execution_count": 54,
   "metadata": {},
   "outputs": [
    {
     "data": {
      "text/html": [
       "<div>\n",
       "<style scoped>\n",
       "    .dataframe tbody tr th:only-of-type {\n",
       "        vertical-align: middle;\n",
       "    }\n",
       "\n",
       "    .dataframe tbody tr th {\n",
       "        vertical-align: top;\n",
       "    }\n",
       "\n",
       "    .dataframe thead th {\n",
       "        text-align: right;\n",
       "    }\n",
       "</style>\n",
       "<table border=\"1\" class=\"dataframe\">\n",
       "  <thead>\n",
       "    <tr style=\"text-align: right;\">\n",
       "      <th></th>\n",
       "      <th>AppointmentID</th>\n",
       "      <th>Neighbourhood</th>\n",
       "      <th>Gender</th>\n",
       "      <th>Age</th>\n",
       "      <th>No-show</th>\n",
       "    </tr>\n",
       "    <tr>\n",
       "      <th>PatientId</th>\n",
       "      <th></th>\n",
       "      <th></th>\n",
       "      <th></th>\n",
       "      <th></th>\n",
       "      <th></th>\n",
       "    </tr>\n",
       "  </thead>\n",
       "  <tbody>\n",
       "    <tr>\n",
       "      <th>2651851551915</th>\n",
       "      <td>1</td>\n",
       "      <td>RESISTÊNCIA</td>\n",
       "      <td>M</td>\n",
       "      <td>5</td>\n",
       "      <td>1/1</td>\n",
       "    </tr>\n",
       "    <tr>\n",
       "      <th>2714527658668</th>\n",
       "      <td>2</td>\n",
       "      <td>DO MOSCOSO</td>\n",
       "      <td>M</td>\n",
       "      <td>17</td>\n",
       "      <td>0/2</td>\n",
       "    </tr>\n",
       "    <tr>\n",
       "      <th>34849787522388</th>\n",
       "      <td>7</td>\n",
       "      <td>SANTOS REIS</td>\n",
       "      <td>M</td>\n",
       "      <td>12</td>\n",
       "      <td>7/7</td>\n",
       "    </tr>\n",
       "    <tr>\n",
       "      <th>3668727268444</th>\n",
       "      <td>2</td>\n",
       "      <td>REDENÇÃO</td>\n",
       "      <td>M</td>\n",
       "      <td>7</td>\n",
       "      <td>0/2</td>\n",
       "    </tr>\n",
       "    <tr>\n",
       "      <th>499114348251</th>\n",
       "      <td>1</td>\n",
       "      <td>PARQUE MOSCOSO</td>\n",
       "      <td>M</td>\n",
       "      <td>11</td>\n",
       "      <td>0/1</td>\n",
       "    </tr>\n",
       "    <tr>\n",
       "      <th>511494631488</th>\n",
       "      <td>1</td>\n",
       "      <td>DA PENHA</td>\n",
       "      <td>M</td>\n",
       "      <td>4</td>\n",
       "      <td>0/1</td>\n",
       "    </tr>\n",
       "    <tr>\n",
       "      <th>528275765627</th>\n",
       "      <td>1</td>\n",
       "      <td>PIEDADE</td>\n",
       "      <td>M</td>\n",
       "      <td>15</td>\n",
       "      <td>0/1</td>\n",
       "    </tr>\n",
       "    <tr>\n",
       "      <th>55248287564947</th>\n",
       "      <td>4</td>\n",
       "      <td>NOVA PALESTINA</td>\n",
       "      <td>F</td>\n",
       "      <td>18</td>\n",
       "      <td>0/4</td>\n",
       "    </tr>\n",
       "    <tr>\n",
       "      <th>57176818166913</th>\n",
       "      <td>2</td>\n",
       "      <td>SANTA MARTHA</td>\n",
       "      <td>M</td>\n",
       "      <td>13</td>\n",
       "      <td>0/2</td>\n",
       "    </tr>\n",
       "    <tr>\n",
       "      <th>714876811412947</th>\n",
       "      <td>1</td>\n",
       "      <td>FONTE GRANDE</td>\n",
       "      <td>F</td>\n",
       "      <td>8</td>\n",
       "      <td>0/1</td>\n",
       "    </tr>\n",
       "    <tr>\n",
       "      <th>7313967635945</th>\n",
       "      <td>1</td>\n",
       "      <td>DO MOSCOSO</td>\n",
       "      <td>F</td>\n",
       "      <td>17</td>\n",
       "      <td>1/1</td>\n",
       "    </tr>\n",
       "    <tr>\n",
       "      <th>742845925726366</th>\n",
       "      <td>1</td>\n",
       "      <td>SÃO PEDRO</td>\n",
       "      <td>F</td>\n",
       "      <td>14</td>\n",
       "      <td>0/1</td>\n",
       "    </tr>\n",
       "    <tr>\n",
       "      <th>966849854418</th>\n",
       "      <td>4</td>\n",
       "      <td>JESUS DE NAZARETH</td>\n",
       "      <td>F</td>\n",
       "      <td>16</td>\n",
       "      <td>3/4</td>\n",
       "    </tr>\n",
       "  </tbody>\n",
       "</table>\n",
       "</div>"
      ],
      "text/plain": [
       "                 AppointmentID      Neighbourhood Gender  Age No-show\n",
       "PatientId                                                            \n",
       "2651851551915                1        RESISTÊNCIA      M    5     1/1\n",
       "2714527658668                2         DO MOSCOSO      M   17     0/2\n",
       "34849787522388               7        SANTOS REIS      M   12     7/7\n",
       "3668727268444                2           REDENÇÃO      M    7     0/2\n",
       "499114348251                 1     PARQUE MOSCOSO      M   11     0/1\n",
       "511494631488                 1           DA PENHA      M    4     0/1\n",
       "528275765627                 1            PIEDADE      M   15     0/1\n",
       "55248287564947               4     NOVA PALESTINA      F   18     0/4\n",
       "57176818166913               2       SANTA MARTHA      M   13     0/2\n",
       "714876811412947              1       FONTE GRANDE      F    8     0/1\n",
       "7313967635945                1         DO MOSCOSO      F   17     1/1\n",
       "742845925726366              1          SÃO PEDRO      F   14     0/1\n",
       "966849854418                 4  JESUS DE NAZARETH      F   16     3/4"
      ]
     },
     "execution_count": 54,
     "metadata": {},
     "output_type": "execute_result"
    }
   ],
   "source": [
    "# here we use trick for Neighbourhood, Gender and Age: we use max not to find the maximum, \n",
    "# but to take one single value for tha patient\n",
    "# also for the No-show columns we calculate how many times out of how many the patient didn't show up\n",
    "young_alco.groupby('PatientId').agg({'AppointmentID': 'count', 'Neighbourhood':'max', \n",
    "                                     'Gender':'max','Age':'max',\n",
    "                                     'No-show': lambda x: str(x.sum())+\"/\" + str(x.count())\n",
    "                                    })"
   ]
  },
  {
   "cell_type": "markdown",
   "metadata": {},
   "source": [
    "<b>Although we're not interested in specific cases for the data analysis purposes</b>, in this case it was interesting to look at that. We <b> can't</b> draw any conclusions from that but we should note that outlier and maybe take some action if possible (i.e. if the provider of the dataset can contact the family of this boy)."
   ]
  },
  {
   "cell_type": "code",
   "execution_count": 55,
   "metadata": {},
   "outputs": [],
   "source": [
    "special_patient = df[df.PatientId=='34849787522388']"
   ]
  },
  {
   "cell_type": "code",
   "execution_count": 56,
   "metadata": {},
   "outputs": [
    {
     "data": {
      "text/html": [
       "<div>\n",
       "<style scoped>\n",
       "    .dataframe tbody tr th:only-of-type {\n",
       "        vertical-align: middle;\n",
       "    }\n",
       "\n",
       "    .dataframe tbody tr th {\n",
       "        vertical-align: top;\n",
       "    }\n",
       "\n",
       "    .dataframe thead th {\n",
       "        text-align: right;\n",
       "    }\n",
       "</style>\n",
       "<table border=\"1\" class=\"dataframe\">\n",
       "  <thead>\n",
       "    <tr style=\"text-align: right;\">\n",
       "      <th></th>\n",
       "      <th>ScheduledDay</th>\n",
       "      <th>AppointmentDay</th>\n",
       "      <th>No-show</th>\n",
       "      <th>SMS_received</th>\n",
       "      <th>DaysBetween</th>\n",
       "    </tr>\n",
       "  </thead>\n",
       "  <tbody>\n",
       "    <tr>\n",
       "      <th>53536</th>\n",
       "      <td>2016-05-20</td>\n",
       "      <td>2016-05-20</td>\n",
       "      <td>True</td>\n",
       "      <td>0</td>\n",
       "      <td>0</td>\n",
       "    </tr>\n",
       "    <tr>\n",
       "      <th>53549</th>\n",
       "      <td>2016-05-13</td>\n",
       "      <td>2016-05-13</td>\n",
       "      <td>True</td>\n",
       "      <td>0</td>\n",
       "      <td>0</td>\n",
       "    </tr>\n",
       "    <tr>\n",
       "      <th>53587</th>\n",
       "      <td>2016-05-06</td>\n",
       "      <td>2016-05-06</td>\n",
       "      <td>True</td>\n",
       "      <td>0</td>\n",
       "      <td>0</td>\n",
       "    </tr>\n",
       "    <tr>\n",
       "      <th>53733</th>\n",
       "      <td>2016-05-20</td>\n",
       "      <td>2016-05-20</td>\n",
       "      <td>True</td>\n",
       "      <td>0</td>\n",
       "      <td>0</td>\n",
       "    </tr>\n",
       "    <tr>\n",
       "      <th>53746</th>\n",
       "      <td>2016-05-13</td>\n",
       "      <td>2016-05-13</td>\n",
       "      <td>True</td>\n",
       "      <td>0</td>\n",
       "      <td>0</td>\n",
       "    </tr>\n",
       "    <tr>\n",
       "      <th>54757</th>\n",
       "      <td>2016-05-13</td>\n",
       "      <td>2016-05-13</td>\n",
       "      <td>True</td>\n",
       "      <td>0</td>\n",
       "      <td>0</td>\n",
       "    </tr>\n",
       "    <tr>\n",
       "      <th>95211</th>\n",
       "      <td>2016-06-03</td>\n",
       "      <td>2016-06-03</td>\n",
       "      <td>True</td>\n",
       "      <td>0</td>\n",
       "      <td>0</td>\n",
       "    </tr>\n",
       "  </tbody>\n",
       "</table>\n",
       "</div>"
      ],
      "text/plain": [
       "      ScheduledDay AppointmentDay  No-show  SMS_received  DaysBetween\n",
       "53536   2016-05-20     2016-05-20     True             0            0\n",
       "53549   2016-05-13     2016-05-13     True             0            0\n",
       "53587   2016-05-06     2016-05-06     True             0            0\n",
       "53733   2016-05-20     2016-05-20     True             0            0\n",
       "53746   2016-05-13     2016-05-13     True             0            0\n",
       "54757   2016-05-13     2016-05-13     True             0            0\n",
       "95211   2016-06-03     2016-06-03     True             0            0"
      ]
     },
     "execution_count": 56,
     "metadata": {},
     "output_type": "execute_result"
    }
   ],
   "source": [
    "special_patient[['ScheduledDay','AppointmentDay','No-show','SMS_received','DaysBetween']]"
   ]
  },
  {
   "cell_type": "markdown",
   "metadata": {},
   "source": [
    "As we can see, there were total 7 appointments for that patient in May and June. He never showed up. All the appointments were scheduled on that same date. However, we can't even say that boy never actually visited the doctor. The maximum date for this dataset is June, 8, 2016. "
   ]
  },
  {
   "cell_type": "markdown",
   "metadata": {},
   "source": [
    "<a id='conclusions'></a>\n",
    "## Conclusions  \n",
    "<a href=\"#top\">Back to Top</a>\n",
    "\n",
    "- Men and women have almost equal rates of no-shows, so gender is not likely to influence that\n",
    "- The number of days between scheduling date and actual appointment does indeed have some influence on whether the patient will show up. We've proven with the statistical test that failed appointments had more days between scheduling and actual appointment (15.8 on average) than successful appointments (8.8 on average).\n",
    "- People with hypertension and combination of diseases have slightly higher show-up rates, but in general it looks like it doesn't have a strong relationship. \n",
    "- Younger people have higher no-show rates\n",
    "- There is a relationship between the age and the disease type. We notices higher rates of hypertension in older groups and higher rates of alcoholism and diabetes in younger groups."
   ]
  },
  {
   "cell_type": "markdown",
   "metadata": {
    "collapsed": true
   },
   "source": [
    "## References\n",
    "- <a href=\"https://stackoverflow.com/questions/6871201/plot-two-histograms-at-the-same-time-with-matplotlib#6873956\">Plotting two histograms (StackOverflow)</a>   \n",
    "- <a href=\"https://www.kean.edu/~fosborne/bstat/07b2means.html\">Hypothesis Testing</a>"
   ]
  }
 ],
 "metadata": {
  "kernelspec": {
   "display_name": "Python 3",
   "language": "python",
   "name": "python3"
  },
  "language_info": {
   "codemirror_mode": {
    "name": "ipython",
    "version": 3
   },
   "file_extension": ".py",
   "mimetype": "text/x-python",
   "name": "python",
   "nbconvert_exporter": "python",
   "pygments_lexer": "ipython3",
   "version": "3.6.8"
  }
 },
 "nbformat": 4,
 "nbformat_minor": 2
}
