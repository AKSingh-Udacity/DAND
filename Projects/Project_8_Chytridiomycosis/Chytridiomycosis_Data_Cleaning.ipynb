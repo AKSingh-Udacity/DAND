{
 "cells": [
  {
   "cell_type": "code",
   "execution_count": 271,
   "metadata": {},
   "outputs": [],
   "source": [
    "import pandas as pd\n",
    "import matplotlib.pyplot as plt\n",
    "%matplotlib inline"
   ]
  },
  {
   "cell_type": "markdown",
   "metadata": {},
   "source": [
    "# Data Gathering"
   ]
  },
  {
   "cell_type": "code",
   "execution_count": 789,
   "metadata": {},
   "outputs": [],
   "source": [
    "df = pd.read_csv('./data/Chytridiomycosis_cleaned.csv')"
   ]
  },
  {
   "cell_type": "markdown",
   "metadata": {},
   "source": [
    "Create species list to look up conservations status in Wikipedia:"
   ]
  },
  {
   "cell_type": "code",
   "execution_count": 790,
   "metadata": {},
   "outputs": [],
   "source": [
    "pd.DataFrame({'Species': df_clean.Species.unique()}).to_csv('./data/species_list.csv',index=False)"
   ]
  },
  {
   "cell_type": "markdown",
   "metadata": {},
   "source": [
    "Read resulting dataframe with conservation status filled in: "
   ]
  },
  {
   "cell_type": "code",
   "execution_count": 791,
   "metadata": {},
   "outputs": [
    {
     "data": {
      "text/plain": [
       "Least Concern             81\n",
       "Critically Endangered      9\n",
       "Endangered                 8\n",
       "Vulnerable                 5\n",
       "Near Threatened            4\n",
       "Name: Conservation_Status, dtype: int64"
      ]
     },
     "execution_count": 791,
     "metadata": {},
     "output_type": "execute_result"
    }
   ],
   "source": [
    "species_status = pd.read_csv('./data/species.csv')\n",
    "\n",
    "species_status.Conservation_Status.value_counts()"
   ]
  },
  {
   "cell_type": "markdown",
   "metadata": {},
   "source": [
    "Merge two datsets together "
   ]
  },
  {
   "cell_type": "code",
   "execution_count": 792,
   "metadata": {},
   "outputs": [],
   "source": [
    "df = df.merge(species_status, how=\"left\", left_on=\"Species\", right_on=\"Species\")"
   ]
  },
  {
   "cell_type": "markdown",
   "metadata": {},
   "source": [
    "## Overview"
   ]
  },
  {
   "cell_type": "code",
   "execution_count": 793,
   "metadata": {},
   "outputs": [],
   "source": [
    "df_clean = df.copy()"
   ]
  },
  {
   "cell_type": "code",
   "execution_count": 794,
   "metadata": {},
   "outputs": [
    {
     "data": {
      "text/plain": [
       "Index(['Compiled_by', 'Database_ID', 'Species', 'Sex', 'Site', 'State',\n",
       "       'Country', 'Year', 'Diagnostic', 'Individuals', 'Indivs_positive',\n",
       "       'Collector_source', 'Orig_database', 'Disease_status', 'Accuracy',\n",
       "       'Latitude', 'Longitude', 'Dead_or_sick', 'Conservation_Status',\n",
       "       'Conservation_Status_Code'],\n",
       "      dtype='object')"
      ]
     },
     "execution_count": 794,
     "metadata": {},
     "output_type": "execute_result"
    }
   ],
   "source": [
    "df.columns"
   ]
  },
  {
   "cell_type": "code",
   "execution_count": 795,
   "metadata": {},
   "outputs": [
    {
     "data": {
      "text/html": [
       "<div>\n",
       "<style scoped>\n",
       "    .dataframe tbody tr th:only-of-type {\n",
       "        vertical-align: middle;\n",
       "    }\n",
       "\n",
       "    .dataframe tbody tr th {\n",
       "        vertical-align: top;\n",
       "    }\n",
       "\n",
       "    .dataframe thead th {\n",
       "        text-align: right;\n",
       "    }\n",
       "</style>\n",
       "<table border=\"1\" class=\"dataframe\">\n",
       "  <thead>\n",
       "    <tr style=\"text-align: right;\">\n",
       "      <th></th>\n",
       "      <th>Database_ID</th>\n",
       "      <th>Year</th>\n",
       "      <th>Individuals</th>\n",
       "      <th>Indivs_positive</th>\n",
       "      <th>Latitude</th>\n",
       "      <th>Longitude</th>\n",
       "    </tr>\n",
       "  </thead>\n",
       "  <tbody>\n",
       "    <tr>\n",
       "      <th>count</th>\n",
       "      <td>10183.00000</td>\n",
       "      <td>9652.000000</td>\n",
       "      <td>9854.000000</td>\n",
       "      <td>9917.000000</td>\n",
       "      <td>8877.000000</td>\n",
       "      <td>8877.000000</td>\n",
       "    </tr>\n",
       "    <tr>\n",
       "      <th>mean</th>\n",
       "      <td>5092.00000</td>\n",
       "      <td>1999.855988</td>\n",
       "      <td>1.312969</td>\n",
       "      <td>0.196632</td>\n",
       "      <td>-23.299867</td>\n",
       "      <td>142.291619</td>\n",
       "    </tr>\n",
       "    <tr>\n",
       "      <th>std</th>\n",
       "      <td>2939.72323</td>\n",
       "      <td>5.324939</td>\n",
       "      <td>4.242507</td>\n",
       "      <td>1.202163</td>\n",
       "      <td>7.490207</td>\n",
       "      <td>11.993697</td>\n",
       "    </tr>\n",
       "    <tr>\n",
       "      <th>min</th>\n",
       "      <td>1.00000</td>\n",
       "      <td>1956.000000</td>\n",
       "      <td>1.000000</td>\n",
       "      <td>0.000000</td>\n",
       "      <td>-43.606230</td>\n",
       "      <td>114.366670</td>\n",
       "    </tr>\n",
       "    <tr>\n",
       "      <th>25%</th>\n",
       "      <td>2546.50000</td>\n",
       "      <td>1998.000000</td>\n",
       "      <td>1.000000</td>\n",
       "      <td>0.000000</td>\n",
       "      <td>-28.574440</td>\n",
       "      <td>145.210000</td>\n",
       "    </tr>\n",
       "    <tr>\n",
       "      <th>50%</th>\n",
       "      <td>5092.00000</td>\n",
       "      <td>2000.000000</td>\n",
       "      <td>1.000000</td>\n",
       "      <td>0.000000</td>\n",
       "      <td>-19.951390</td>\n",
       "      <td>145.665560</td>\n",
       "    </tr>\n",
       "    <tr>\n",
       "      <th>75%</th>\n",
       "      <td>7637.50000</td>\n",
       "      <td>2004.000000</td>\n",
       "      <td>1.000000</td>\n",
       "      <td>0.000000</td>\n",
       "      <td>-17.425560</td>\n",
       "      <td>148.633060</td>\n",
       "    </tr>\n",
       "    <tr>\n",
       "      <th>max</th>\n",
       "      <td>10183.00000</td>\n",
       "      <td>2007.000000</td>\n",
       "      <td>319.000000</td>\n",
       "      <td>77.000000</td>\n",
       "      <td>-13.725830</td>\n",
       "      <td>153.536980</td>\n",
       "    </tr>\n",
       "  </tbody>\n",
       "</table>\n",
       "</div>"
      ],
      "text/plain": [
       "       Database_ID         Year  Individuals  Indivs_positive     Latitude  \\\n",
       "count  10183.00000  9652.000000  9854.000000      9917.000000  8877.000000   \n",
       "mean    5092.00000  1999.855988     1.312969         0.196632   -23.299867   \n",
       "std     2939.72323     5.324939     4.242507         1.202163     7.490207   \n",
       "min        1.00000  1956.000000     1.000000         0.000000   -43.606230   \n",
       "25%     2546.50000  1998.000000     1.000000         0.000000   -28.574440   \n",
       "50%     5092.00000  2000.000000     1.000000         0.000000   -19.951390   \n",
       "75%     7637.50000  2004.000000     1.000000         0.000000   -17.425560   \n",
       "max    10183.00000  2007.000000   319.000000        77.000000   -13.725830   \n",
       "\n",
       "         Longitude  \n",
       "count  8877.000000  \n",
       "mean    142.291619  \n",
       "std      11.993697  \n",
       "min     114.366670  \n",
       "25%     145.210000  \n",
       "50%     145.665560  \n",
       "75%     148.633060  \n",
       "max     153.536980  "
      ]
     },
     "execution_count": 795,
     "metadata": {},
     "output_type": "execute_result"
    }
   ],
   "source": [
    "df.describe()"
   ]
  },
  {
   "cell_type": "code",
   "execution_count": 796,
   "metadata": {},
   "outputs": [
    {
     "name": "stdout",
     "output_type": "stream",
     "text": [
      "<class 'pandas.core.frame.DataFrame'>\n",
      "Int64Index: 10183 entries, 0 to 10182\n",
      "Data columns (total 20 columns):\n",
      "Compiled_by                 10183 non-null object\n",
      "Database_ID                 10183 non-null int64\n",
      "Species                     10183 non-null object\n",
      "Sex                         10183 non-null object\n",
      "Site                        10183 non-null object\n",
      "State                       10183 non-null object\n",
      "Country                     10183 non-null object\n",
      "Year                        9652 non-null float64\n",
      "Diagnostic                  10183 non-null object\n",
      "Individuals                 9854 non-null float64\n",
      "Indivs_positive             9917 non-null float64\n",
      "Collector_source            10183 non-null object\n",
      "Orig_database               10183 non-null object\n",
      "Disease_status              10183 non-null object\n",
      "Accuracy                    10183 non-null object\n",
      "Latitude                    8877 non-null float64\n",
      "Longitude                   8877 non-null float64\n",
      "Dead_or_sick                10183 non-null object\n",
      "Conservation_Status         9728 non-null object\n",
      "Conservation_Status_Code    9728 non-null object\n",
      "dtypes: float64(5), int64(1), object(14)\n",
      "memory usage: 1.6+ MB\n"
     ]
    }
   ],
   "source": [
    "df.info()"
   ]
  },
  {
   "cell_type": "code",
   "execution_count": 797,
   "metadata": {},
   "outputs": [
    {
     "data": {
      "text/plain": [
       "Compiled_by                    0\n",
       "Database_ID                    0\n",
       "Species                        0\n",
       "Sex                            0\n",
       "Site                           0\n",
       "State                          0\n",
       "Country                        0\n",
       "Year                         531\n",
       "Diagnostic                     0\n",
       "Individuals                  329\n",
       "Indivs_positive              266\n",
       "Collector_source               0\n",
       "Orig_database                  0\n",
       "Disease_status                 0\n",
       "Accuracy                       0\n",
       "Latitude                    1306\n",
       "Longitude                   1306\n",
       "Dead_or_sick                   0\n",
       "Conservation_Status          455\n",
       "Conservation_Status_Code     455\n",
       "dtype: int64"
      ]
     },
     "execution_count": 797,
     "metadata": {},
     "output_type": "execute_result"
    }
   ],
   "source": [
    "df.isnull().sum(axis=0)"
   ]
  },
  {
   "cell_type": "markdown",
   "metadata": {},
   "source": [
    "## 1: Missing year"
   ]
  },
  {
   "cell_type": "markdown",
   "metadata": {},
   "source": [
    "### Assessment"
   ]
  },
  {
   "cell_type": "code",
   "execution_count": 798,
   "metadata": {},
   "outputs": [
    {
     "data": {
      "text/plain": [
       "Compiled_by                   0\n",
       "Database_ID                   0\n",
       "Species                       0\n",
       "Sex                           0\n",
       "Site                          0\n",
       "State                         0\n",
       "Country                       0\n",
       "Year                        531\n",
       "Diagnostic                    0\n",
       "Individuals                 206\n",
       "Indivs_positive             206\n",
       "Collector_source              0\n",
       "Orig_database                 0\n",
       "Disease_status                0\n",
       "Accuracy                      0\n",
       "Latitude                    382\n",
       "Longitude                   382\n",
       "Dead_or_sick                  0\n",
       "Conservation_Status         267\n",
       "Conservation_Status_Code    267\n",
       "dtype: int64"
      ]
     },
     "execution_count": 798,
     "metadata": {},
     "output_type": "execute_result"
    }
   ],
   "source": [
    "df[df.Year.isnull()].isnull().sum(axis=0)"
   ]
  },
  {
   "cell_type": "code",
   "execution_count": 799,
   "metadata": {},
   "outputs": [
    {
     "data": {
      "text/plain": [
       "K. Aplin          369\n",
       "D. Driscoll        47\n",
       "various            28\n",
       "H. Hines           19\n",
       "R. Puschendorf     10\n",
       "Name: Collector_source, dtype: int64"
      ]
     },
     "execution_count": 799,
     "metadata": {},
     "output_type": "execute_result"
    }
   ],
   "source": [
    "df[df.Year.isnull()].Collector_source.value_counts().head()"
   ]
  },
  {
   "cell_type": "code",
   "execution_count": 800,
   "metadata": {},
   "outputs": [
    {
     "data": {
      "text/plain": [
       "unacceptable    476\n",
       "acceptable       55\n",
       "Name: Accuracy, dtype: int64"
      ]
     },
     "execution_count": 800,
     "metadata": {},
     "output_type": "execute_result"
    }
   ],
   "source": [
    "df[df.Year.isnull()].Accuracy.value_counts()"
   ]
  },
  {
   "cell_type": "code",
   "execution_count": 801,
   "metadata": {},
   "outputs": [
    {
     "data": {
      "text/plain": [
       "K. Murray (K. Aplin sorted database)    445\n",
       "Mapping Samples - Aug 05.xls             28\n",
       "L. Berger                                19\n",
       "D. Mendez                                18\n",
       "K. Murray                                10\n",
       "D. Mendez / R. Speare                     8\n",
       "R. Speare / L. Berger                     2\n",
       "K. McDonald                               1\n",
       "Name: Orig_database, dtype: int64"
      ]
     },
     "execution_count": 801,
     "metadata": {},
     "output_type": "execute_result"
    }
   ],
   "source": [
    "df[df.Year.isnull()].Orig_database.value_counts()"
   ]
  },
  {
   "cell_type": "code",
   "execution_count": 802,
   "metadata": {},
   "outputs": [
    {
     "data": {
      "text/plain": [
       "382"
      ]
     },
     "execution_count": 802,
     "metadata": {},
     "output_type": "execute_result"
    }
   ],
   "source": [
    "df[df.Year.isnull()].Latitude.isnull().sum()"
   ]
  },
  {
   "cell_type": "code",
   "execution_count": 803,
   "metadata": {},
   "outputs": [
    {
     "data": {
      "text/plain": [
       "unacceptable    476\n",
       "acceptable       55\n",
       "Name: Accuracy, dtype: int64"
      ]
     },
     "execution_count": 803,
     "metadata": {},
     "output_type": "execute_result"
    }
   ],
   "source": [
    "df[df.Year.isnull()].Accuracy.value_counts()"
   ]
  },
  {
   "cell_type": "code",
   "execution_count": 804,
   "metadata": {},
   "outputs": [
    {
     "data": {
      "text/plain": [
       "382"
      ]
     },
     "execution_count": 804,
     "metadata": {},
     "output_type": "execute_result"
    }
   ],
   "source": [
    "df[df.Year.isnull()].Latitude.isnull().sum()"
   ]
  },
  {
   "cell_type": "code",
   "execution_count": 805,
   "metadata": {},
   "outputs": [
    {
     "data": {
      "text/plain": [
       "missing data                   317\n",
       "3.7Km E Bullant Dve, Bussel     47\n",
       "Airport Perth                   19\n",
       "Talbot Rd, Perth                 9\n",
       "Tims Thicket                     9\n",
       "Name: Site, dtype: int64"
      ]
     },
     "execution_count": 805,
     "metadata": {},
     "output_type": "execute_result"
    }
   ],
   "source": [
    "df[df.Year.isnull()].Site.value_counts().head()"
   ]
  },
  {
   "cell_type": "code",
   "execution_count": 806,
   "metadata": {},
   "outputs": [
    {
     "data": {
      "text/plain": [
       "WA              446\n",
       "QLD              49\n",
       "missing data     21\n",
       "NSW              13\n",
       "VIC               1\n",
       "SA                1\n",
       "Name: State, dtype: int64"
      ]
     },
     "execution_count": 806,
     "metadata": {},
     "output_type": "execute_result"
    }
   ],
   "source": [
    "df[df.Year.isnull()].State.value_counts()"
   ]
  },
  {
   "cell_type": "markdown",
   "metadata": {},
   "source": [
    "Conclusion: \n",
    "\n",
    "Most observations without year are from K. Murray (K. Aplin sorted database) source. Also, most of them (445/531) have unacceptable accuracy of geographical location (382 out of 531 locations are simply null). Completely removing them looks like a reasonable solution in this case. "
   ]
  },
  {
   "cell_type": "markdown",
   "metadata": {},
   "source": [
    "### Cleaning"
   ]
  },
  {
   "cell_type": "markdown",
   "metadata": {},
   "source": [
    "#### Define"
   ]
  },
  {
   "cell_type": "markdown",
   "metadata": {},
   "source": [
    "Remove observations with missing year."
   ]
  },
  {
   "cell_type": "markdown",
   "metadata": {},
   "source": [
    "#### Code"
   ]
  },
  {
   "cell_type": "code",
   "execution_count": 807,
   "metadata": {},
   "outputs": [],
   "source": [
    "df_clean = df_clean[df_clean.Year.notnull()]"
   ]
  },
  {
   "cell_type": "markdown",
   "metadata": {},
   "source": [
    "#### Test"
   ]
  },
  {
   "cell_type": "code",
   "execution_count": 808,
   "metadata": {},
   "outputs": [
    {
     "data": {
      "text/plain": [
       "0"
      ]
     },
     "execution_count": 808,
     "metadata": {},
     "output_type": "execute_result"
    }
   ],
   "source": [
    "df_clean.Year.isnull().sum()"
   ]
  },
  {
   "cell_type": "markdown",
   "metadata": {},
   "source": [
    "#### Define\n",
    "Convert Year to integer (now possible due to absence of missing values)"
   ]
  },
  {
   "cell_type": "markdown",
   "metadata": {},
   "source": [
    "#### Code"
   ]
  },
  {
   "cell_type": "code",
   "execution_count": 809,
   "metadata": {},
   "outputs": [],
   "source": [
    "df_clean['Year'] = df_clean.Year.astype('int')"
   ]
  },
  {
   "cell_type": "markdown",
   "metadata": {},
   "source": [
    "#### Test"
   ]
  },
  {
   "cell_type": "code",
   "execution_count": 810,
   "metadata": {},
   "outputs": [
    {
     "data": {
      "text/plain": [
       "0    1997\n",
       "1    1997\n",
       "2    1997\n",
       "3    1997\n",
       "4    1997\n",
       "Name: Year, dtype: int64"
      ]
     },
     "execution_count": 810,
     "metadata": {},
     "output_type": "execute_result"
    }
   ],
   "source": [
    "df_clean.Year.head()"
   ]
  },
  {
   "cell_type": "markdown",
   "metadata": {},
   "source": [
    "## 2: Null values reported as 'missing data'"
   ]
  },
  {
   "cell_type": "code",
   "execution_count": 811,
   "metadata": {},
   "outputs": [
    {
     "name": "stdout",
     "output_type": "stream",
     "text": [
      "<class 'pandas.core.frame.DataFrame'>\n",
      "Int64Index: 10183 entries, 0 to 10182\n",
      "Data columns (total 20 columns):\n",
      "Compiled_by                 10183 non-null object\n",
      "Database_ID                 10183 non-null int64\n",
      "Species                     10183 non-null object\n",
      "Sex                         10183 non-null object\n",
      "Site                        10183 non-null object\n",
      "State                       10183 non-null object\n",
      "Country                     10183 non-null object\n",
      "Year                        9652 non-null float64\n",
      "Diagnostic                  10183 non-null object\n",
      "Individuals                 9854 non-null float64\n",
      "Indivs_positive             9917 non-null float64\n",
      "Collector_source            10183 non-null object\n",
      "Orig_database               10183 non-null object\n",
      "Disease_status              10183 non-null object\n",
      "Accuracy                    10183 non-null object\n",
      "Latitude                    8877 non-null float64\n",
      "Longitude                   8877 non-null float64\n",
      "Dead_or_sick                10183 non-null object\n",
      "Conservation_Status         9728 non-null object\n",
      "Conservation_Status_Code    9728 non-null object\n",
      "dtypes: float64(5), int64(1), object(14)\n",
      "memory usage: 1.6+ MB\n"
     ]
    }
   ],
   "source": [
    "df.info()"
   ]
  },
  {
   "cell_type": "code",
   "execution_count": 812,
   "metadata": {},
   "outputs": [
    {
     "data": {
      "text/plain": [
       "23"
      ]
     },
     "execution_count": 812,
     "metadata": {},
     "output_type": "execute_result"
    }
   ],
   "source": [
    "df_clean.Site.str.contains('missing').sum()"
   ]
  },
  {
   "cell_type": "code",
   "execution_count": 813,
   "metadata": {},
   "outputs": [
    {
     "data": {
      "text/plain": [
       "14"
      ]
     },
     "execution_count": 813,
     "metadata": {},
     "output_type": "execute_result"
    }
   ],
   "source": [
    "df_clean.State.str.contains('missing').sum()"
   ]
  },
  {
   "cell_type": "code",
   "execution_count": 814,
   "metadata": {},
   "outputs": [
    {
     "data": {
      "text/plain": [
       "0"
      ]
     },
     "execution_count": 814,
     "metadata": {},
     "output_type": "execute_result"
    }
   ],
   "source": [
    "df_clean.Diagnostic.str.contains('missing').sum()"
   ]
  },
  {
   "cell_type": "code",
   "execution_count": 815,
   "metadata": {},
   "outputs": [
    {
     "data": {
      "text/plain": [
       "0"
      ]
     },
     "execution_count": 815,
     "metadata": {},
     "output_type": "execute_result"
    }
   ],
   "source": [
    "df_clean.Collector_source.str.contains('missing').sum()"
   ]
  },
  {
   "cell_type": "code",
   "execution_count": 816,
   "metadata": {},
   "outputs": [
    {
     "data": {
      "text/plain": [
       "0"
      ]
     },
     "execution_count": 816,
     "metadata": {},
     "output_type": "execute_result"
    }
   ],
   "source": [
    "df_clean.Orig_database.str.contains('missing').sum()"
   ]
  },
  {
   "cell_type": "code",
   "execution_count": 817,
   "metadata": {},
   "outputs": [
    {
     "data": {
      "text/html": [
       "<div>\n",
       "<style scoped>\n",
       "    .dataframe tbody tr th:only-of-type {\n",
       "        vertical-align: middle;\n",
       "    }\n",
       "\n",
       "    .dataframe tbody tr th {\n",
       "        vertical-align: top;\n",
       "    }\n",
       "\n",
       "    .dataframe thead th {\n",
       "        text-align: right;\n",
       "    }\n",
       "</style>\n",
       "<table border=\"1\" class=\"dataframe\">\n",
       "  <thead>\n",
       "    <tr style=\"text-align: right;\">\n",
       "      <th></th>\n",
       "      <th>Compiled_by</th>\n",
       "      <th>Database_ID</th>\n",
       "      <th>Species</th>\n",
       "      <th>Sex</th>\n",
       "      <th>Site</th>\n",
       "      <th>State</th>\n",
       "      <th>Country</th>\n",
       "      <th>Year</th>\n",
       "      <th>Diagnostic</th>\n",
       "      <th>Individuals</th>\n",
       "      <th>Indivs_positive</th>\n",
       "      <th>Collector_source</th>\n",
       "      <th>Orig_database</th>\n",
       "      <th>Disease_status</th>\n",
       "      <th>Accuracy</th>\n",
       "      <th>Latitude</th>\n",
       "      <th>Longitude</th>\n",
       "      <th>Dead_or_sick</th>\n",
       "      <th>Conservation_Status</th>\n",
       "      <th>Conservation_Status_Code</th>\n",
       "    </tr>\n",
       "  </thead>\n",
       "  <tbody>\n",
       "    <tr>\n",
       "      <th>2390</th>\n",
       "      <td>RichardRetallick</td>\n",
       "      <td>2391</td>\n",
       "      <td>Limnodynastes peronii</td>\n",
       "      <td>not recorded</td>\n",
       "      <td>missing data</td>\n",
       "      <td>missing data</td>\n",
       "      <td>Australia</td>\n",
       "      <td>1999</td>\n",
       "      <td>Histology</td>\n",
       "      <td>1.0</td>\n",
       "      <td>0.0</td>\n",
       "      <td>A. Beezley / P. Couper</td>\n",
       "      <td>L. Berger</td>\n",
       "      <td>no result</td>\n",
       "      <td>unacceptable</td>\n",
       "      <td>NaN</td>\n",
       "      <td>NaN</td>\n",
       "      <td>not noted</td>\n",
       "      <td>Least Concern</td>\n",
       "      <td>LC</td>\n",
       "    </tr>\n",
       "    <tr>\n",
       "      <th>2492</th>\n",
       "      <td>RichardRetallick</td>\n",
       "      <td>2493</td>\n",
       "      <td>Litoria fallax</td>\n",
       "      <td>Female</td>\n",
       "      <td>missing data</td>\n",
       "      <td>missing data</td>\n",
       "      <td>Australia</td>\n",
       "      <td>2000</td>\n",
       "      <td>Histology</td>\n",
       "      <td>1.0</td>\n",
       "      <td>0.0</td>\n",
       "      <td>H. Hines</td>\n",
       "      <td>L. Berger</td>\n",
       "      <td>negative</td>\n",
       "      <td>unacceptable</td>\n",
       "      <td>NaN</td>\n",
       "      <td>NaN</td>\n",
       "      <td>not noted</td>\n",
       "      <td>Least Concern</td>\n",
       "      <td>LC</td>\n",
       "    </tr>\n",
       "    <tr>\n",
       "      <th>2558</th>\n",
       "      <td>RichardRetallick</td>\n",
       "      <td>2559</td>\n",
       "      <td>Limnodynastes peronii</td>\n",
       "      <td>Male</td>\n",
       "      <td>missing data</td>\n",
       "      <td>missing data</td>\n",
       "      <td>Australia</td>\n",
       "      <td>1999</td>\n",
       "      <td>Histology</td>\n",
       "      <td>1.0</td>\n",
       "      <td>0.0</td>\n",
       "      <td>A. Beezley / P. Couper</td>\n",
       "      <td>L. Berger</td>\n",
       "      <td>negative</td>\n",
       "      <td>unacceptable</td>\n",
       "      <td>NaN</td>\n",
       "      <td>NaN</td>\n",
       "      <td>not noted</td>\n",
       "      <td>Least Concern</td>\n",
       "      <td>LC</td>\n",
       "    </tr>\n",
       "    <tr>\n",
       "      <th>2563</th>\n",
       "      <td>RichardRetallick</td>\n",
       "      <td>2564</td>\n",
       "      <td>Litoria caerulea</td>\n",
       "      <td>Male</td>\n",
       "      <td>missing data</td>\n",
       "      <td>missing data</td>\n",
       "      <td>Australia</td>\n",
       "      <td>1998</td>\n",
       "      <td>Histology</td>\n",
       "      <td>1.0</td>\n",
       "      <td>0.0</td>\n",
       "      <td>C. Taylor SC Uni</td>\n",
       "      <td>L. Berger</td>\n",
       "      <td>negative</td>\n",
       "      <td>unacceptable</td>\n",
       "      <td>NaN</td>\n",
       "      <td>NaN</td>\n",
       "      <td>not noted</td>\n",
       "      <td>Least Concern</td>\n",
       "      <td>LC</td>\n",
       "    </tr>\n",
       "    <tr>\n",
       "      <th>2585</th>\n",
       "      <td>RichardRetallick</td>\n",
       "      <td>2586</td>\n",
       "      <td>Litoria caerulea</td>\n",
       "      <td>Male</td>\n",
       "      <td>missing data</td>\n",
       "      <td>missing data</td>\n",
       "      <td>Australia</td>\n",
       "      <td>1996</td>\n",
       "      <td>Histology</td>\n",
       "      <td>1.0</td>\n",
       "      <td>1.0</td>\n",
       "      <td>H. Hines</td>\n",
       "      <td>L. Berger</td>\n",
       "      <td>positive</td>\n",
       "      <td>unacceptable</td>\n",
       "      <td>NaN</td>\n",
       "      <td>NaN</td>\n",
       "      <td>not noted</td>\n",
       "      <td>Least Concern</td>\n",
       "      <td>LC</td>\n",
       "    </tr>\n",
       "  </tbody>\n",
       "</table>\n",
       "</div>"
      ],
      "text/plain": [
       "           Compiled_by  Database_ID                Species           Sex  \\\n",
       "2390  RichardRetallick         2391  Limnodynastes peronii  not recorded   \n",
       "2492  RichardRetallick         2493         Litoria fallax        Female   \n",
       "2558  RichardRetallick         2559  Limnodynastes peronii          Male   \n",
       "2563  RichardRetallick         2564       Litoria caerulea          Male   \n",
       "2585  RichardRetallick         2586       Litoria caerulea          Male   \n",
       "\n",
       "              Site         State    Country  Year Diagnostic  Individuals  \\\n",
       "2390  missing data  missing data  Australia  1999  Histology          1.0   \n",
       "2492  missing data  missing data  Australia  2000  Histology          1.0   \n",
       "2558  missing data  missing data  Australia  1999  Histology          1.0   \n",
       "2563  missing data  missing data  Australia  1998  Histology          1.0   \n",
       "2585  missing data  missing data  Australia  1996  Histology          1.0   \n",
       "\n",
       "      Indivs_positive        Collector_source Orig_database Disease_status  \\\n",
       "2390              0.0  A. Beezley / P. Couper     L. Berger      no result   \n",
       "2492              0.0                H. Hines     L. Berger       negative   \n",
       "2558              0.0  A. Beezley / P. Couper     L. Berger       negative   \n",
       "2563              0.0        C. Taylor SC Uni     L. Berger       negative   \n",
       "2585              1.0                H. Hines     L. Berger       positive   \n",
       "\n",
       "          Accuracy  Latitude  Longitude Dead_or_sick Conservation_Status  \\\n",
       "2390  unacceptable       NaN        NaN    not noted       Least Concern   \n",
       "2492  unacceptable       NaN        NaN    not noted       Least Concern   \n",
       "2558  unacceptable       NaN        NaN    not noted       Least Concern   \n",
       "2563  unacceptable       NaN        NaN    not noted       Least Concern   \n",
       "2585  unacceptable       NaN        NaN    not noted       Least Concern   \n",
       "\n",
       "     Conservation_Status_Code  \n",
       "2390                       LC  \n",
       "2492                       LC  \n",
       "2558                       LC  \n",
       "2563                       LC  \n",
       "2585                       LC  "
      ]
     },
     "execution_count": 817,
     "metadata": {},
     "output_type": "execute_result"
    }
   ],
   "source": [
    "df_clean[df_clean.Site.str.contains('missing')].head()"
   ]
  },
  {
   "cell_type": "markdown",
   "metadata": {},
   "source": [
    "Although we don't have accurate geographical data about these records, it still wrong to remove them, because at least they add information to the temporal dimension - we still have the number of infected species by year. So in this case we should rather convert 'missing data' to None type."
   ]
  },
  {
   "cell_type": "markdown",
   "metadata": {},
   "source": [
    "#### Define\n",
    "Convert 'missing data' to `None` in `Site` and `State` columns"
   ]
  },
  {
   "cell_type": "markdown",
   "metadata": {},
   "source": [
    "#### Code "
   ]
  },
  {
   "cell_type": "code",
   "execution_count": 818,
   "metadata": {},
   "outputs": [],
   "source": [
    "df_clean.loc[df_clean.Site=='missing data','Site'] = None"
   ]
  },
  {
   "cell_type": "code",
   "execution_count": 819,
   "metadata": {},
   "outputs": [],
   "source": [
    "df_clean.loc[df_clean.State=='missing data','State'] = None"
   ]
  },
  {
   "cell_type": "markdown",
   "metadata": {},
   "source": [
    "#### Test"
   ]
  },
  {
   "cell_type": "code",
   "execution_count": 820,
   "metadata": {},
   "outputs": [
    {
     "data": {
      "text/html": [
       "<div>\n",
       "<style scoped>\n",
       "    .dataframe tbody tr th:only-of-type {\n",
       "        vertical-align: middle;\n",
       "    }\n",
       "\n",
       "    .dataframe tbody tr th {\n",
       "        vertical-align: top;\n",
       "    }\n",
       "\n",
       "    .dataframe thead th {\n",
       "        text-align: right;\n",
       "    }\n",
       "</style>\n",
       "<table border=\"1\" class=\"dataframe\">\n",
       "  <thead>\n",
       "    <tr style=\"text-align: right;\">\n",
       "      <th></th>\n",
       "      <th>Compiled_by</th>\n",
       "      <th>Database_ID</th>\n",
       "      <th>Species</th>\n",
       "      <th>Sex</th>\n",
       "      <th>Site</th>\n",
       "      <th>State</th>\n",
       "      <th>Country</th>\n",
       "      <th>Year</th>\n",
       "      <th>Diagnostic</th>\n",
       "      <th>Individuals</th>\n",
       "      <th>Indivs_positive</th>\n",
       "      <th>Collector_source</th>\n",
       "      <th>Orig_database</th>\n",
       "      <th>Disease_status</th>\n",
       "      <th>Accuracy</th>\n",
       "      <th>Latitude</th>\n",
       "      <th>Longitude</th>\n",
       "      <th>Dead_or_sick</th>\n",
       "      <th>Conservation_Status</th>\n",
       "      <th>Conservation_Status_Code</th>\n",
       "    </tr>\n",
       "  </thead>\n",
       "  <tbody>\n",
       "    <tr>\n",
       "      <th>2390</th>\n",
       "      <td>RichardRetallick</td>\n",
       "      <td>2391</td>\n",
       "      <td>Limnodynastes peronii</td>\n",
       "      <td>not recorded</td>\n",
       "      <td>None</td>\n",
       "      <td>None</td>\n",
       "      <td>Australia</td>\n",
       "      <td>1999</td>\n",
       "      <td>Histology</td>\n",
       "      <td>1.0</td>\n",
       "      <td>0.0</td>\n",
       "      <td>A. Beezley / P. Couper</td>\n",
       "      <td>L. Berger</td>\n",
       "      <td>no result</td>\n",
       "      <td>unacceptable</td>\n",
       "      <td>NaN</td>\n",
       "      <td>NaN</td>\n",
       "      <td>not noted</td>\n",
       "      <td>Least Concern</td>\n",
       "      <td>LC</td>\n",
       "    </tr>\n",
       "    <tr>\n",
       "      <th>2492</th>\n",
       "      <td>RichardRetallick</td>\n",
       "      <td>2493</td>\n",
       "      <td>Litoria fallax</td>\n",
       "      <td>Female</td>\n",
       "      <td>None</td>\n",
       "      <td>None</td>\n",
       "      <td>Australia</td>\n",
       "      <td>2000</td>\n",
       "      <td>Histology</td>\n",
       "      <td>1.0</td>\n",
       "      <td>0.0</td>\n",
       "      <td>H. Hines</td>\n",
       "      <td>L. Berger</td>\n",
       "      <td>negative</td>\n",
       "      <td>unacceptable</td>\n",
       "      <td>NaN</td>\n",
       "      <td>NaN</td>\n",
       "      <td>not noted</td>\n",
       "      <td>Least Concern</td>\n",
       "      <td>LC</td>\n",
       "    </tr>\n",
       "    <tr>\n",
       "      <th>2558</th>\n",
       "      <td>RichardRetallick</td>\n",
       "      <td>2559</td>\n",
       "      <td>Limnodynastes peronii</td>\n",
       "      <td>Male</td>\n",
       "      <td>None</td>\n",
       "      <td>None</td>\n",
       "      <td>Australia</td>\n",
       "      <td>1999</td>\n",
       "      <td>Histology</td>\n",
       "      <td>1.0</td>\n",
       "      <td>0.0</td>\n",
       "      <td>A. Beezley / P. Couper</td>\n",
       "      <td>L. Berger</td>\n",
       "      <td>negative</td>\n",
       "      <td>unacceptable</td>\n",
       "      <td>NaN</td>\n",
       "      <td>NaN</td>\n",
       "      <td>not noted</td>\n",
       "      <td>Least Concern</td>\n",
       "      <td>LC</td>\n",
       "    </tr>\n",
       "    <tr>\n",
       "      <th>2563</th>\n",
       "      <td>RichardRetallick</td>\n",
       "      <td>2564</td>\n",
       "      <td>Litoria caerulea</td>\n",
       "      <td>Male</td>\n",
       "      <td>None</td>\n",
       "      <td>None</td>\n",
       "      <td>Australia</td>\n",
       "      <td>1998</td>\n",
       "      <td>Histology</td>\n",
       "      <td>1.0</td>\n",
       "      <td>0.0</td>\n",
       "      <td>C. Taylor SC Uni</td>\n",
       "      <td>L. Berger</td>\n",
       "      <td>negative</td>\n",
       "      <td>unacceptable</td>\n",
       "      <td>NaN</td>\n",
       "      <td>NaN</td>\n",
       "      <td>not noted</td>\n",
       "      <td>Least Concern</td>\n",
       "      <td>LC</td>\n",
       "    </tr>\n",
       "    <tr>\n",
       "      <th>2585</th>\n",
       "      <td>RichardRetallick</td>\n",
       "      <td>2586</td>\n",
       "      <td>Litoria caerulea</td>\n",
       "      <td>Male</td>\n",
       "      <td>None</td>\n",
       "      <td>None</td>\n",
       "      <td>Australia</td>\n",
       "      <td>1996</td>\n",
       "      <td>Histology</td>\n",
       "      <td>1.0</td>\n",
       "      <td>1.0</td>\n",
       "      <td>H. Hines</td>\n",
       "      <td>L. Berger</td>\n",
       "      <td>positive</td>\n",
       "      <td>unacceptable</td>\n",
       "      <td>NaN</td>\n",
       "      <td>NaN</td>\n",
       "      <td>not noted</td>\n",
       "      <td>Least Concern</td>\n",
       "      <td>LC</td>\n",
       "    </tr>\n",
       "  </tbody>\n",
       "</table>\n",
       "</div>"
      ],
      "text/plain": [
       "           Compiled_by  Database_ID                Species           Sex  \\\n",
       "2390  RichardRetallick         2391  Limnodynastes peronii  not recorded   \n",
       "2492  RichardRetallick         2493         Litoria fallax        Female   \n",
       "2558  RichardRetallick         2559  Limnodynastes peronii          Male   \n",
       "2563  RichardRetallick         2564       Litoria caerulea          Male   \n",
       "2585  RichardRetallick         2586       Litoria caerulea          Male   \n",
       "\n",
       "      Site State    Country  Year Diagnostic  Individuals  Indivs_positive  \\\n",
       "2390  None  None  Australia  1999  Histology          1.0              0.0   \n",
       "2492  None  None  Australia  2000  Histology          1.0              0.0   \n",
       "2558  None  None  Australia  1999  Histology          1.0              0.0   \n",
       "2563  None  None  Australia  1998  Histology          1.0              0.0   \n",
       "2585  None  None  Australia  1996  Histology          1.0              1.0   \n",
       "\n",
       "            Collector_source Orig_database Disease_status      Accuracy  \\\n",
       "2390  A. Beezley / P. Couper     L. Berger      no result  unacceptable   \n",
       "2492                H. Hines     L. Berger       negative  unacceptable   \n",
       "2558  A. Beezley / P. Couper     L. Berger       negative  unacceptable   \n",
       "2563        C. Taylor SC Uni     L. Berger       negative  unacceptable   \n",
       "2585                H. Hines     L. Berger       positive  unacceptable   \n",
       "\n",
       "      Latitude  Longitude Dead_or_sick Conservation_Status  \\\n",
       "2390       NaN        NaN    not noted       Least Concern   \n",
       "2492       NaN        NaN    not noted       Least Concern   \n",
       "2558       NaN        NaN    not noted       Least Concern   \n",
       "2563       NaN        NaN    not noted       Least Concern   \n",
       "2585       NaN        NaN    not noted       Least Concern   \n",
       "\n",
       "     Conservation_Status_Code  \n",
       "2390                       LC  \n",
       "2492                       LC  \n",
       "2558                       LC  \n",
       "2563                       LC  \n",
       "2585                       LC  "
      ]
     },
     "execution_count": 820,
     "metadata": {},
     "output_type": "execute_result"
    }
   ],
   "source": [
    "df_clean[df_clean.Site.isnull()].head()"
   ]
  },
  {
   "cell_type": "markdown",
   "metadata": {},
   "source": [
    "## 3: Missing geographical data"
   ]
  },
  {
   "cell_type": "markdown",
   "metadata": {},
   "source": [
    "### Assessment"
   ]
  },
  {
   "cell_type": "code",
   "execution_count": 821,
   "metadata": {},
   "outputs": [
    {
     "data": {
      "text/plain": [
       "924"
      ]
     },
     "execution_count": 821,
     "metadata": {},
     "output_type": "execute_result"
    }
   ],
   "source": [
    "no_geo = (df_clean.Latitude.isnull() & df_clean.Longitude.isnull())\n",
    "no_geo.sum()"
   ]
  },
  {
   "cell_type": "code",
   "execution_count": 822,
   "metadata": {
    "scrolled": true
   },
   "outputs": [
    {
     "data": {
      "text/plain": [
       "unacceptable    924\n",
       "Name: Accuracy, dtype: int64"
      ]
     },
     "execution_count": 822,
     "metadata": {},
     "output_type": "execute_result"
    }
   ],
   "source": [
    "df_clean[no_geo].Accuracy.value_counts()"
   ]
  },
  {
   "cell_type": "code",
   "execution_count": 823,
   "metadata": {},
   "outputs": [
    {
     "data": {
      "text/plain": [
       "WA      842\n",
       "QLD      38\n",
       "NSW      23\n",
       "nsw?      5\n",
       "TAS       2\n",
       "Name: State, dtype: int64"
      ]
     },
     "execution_count": 823,
     "metadata": {},
     "output_type": "execute_result"
    }
   ],
   "source": [
    "df_clean[no_geo].State.value_counts()"
   ]
  },
  {
   "cell_type": "markdown",
   "metadata": {},
   "source": [
    "Conclusion\n",
    "\n",
    "As we know from dataset description, somethimes it was impossible to establish where the species come from. However, it doesn't make thes observations invaluable. We still want them in the dataset (Note: unacceptable accuracy refers to longitude and latitude accuracy).  \n",
    "\n",
    "Leave as is."
   ]
  },
  {
   "cell_type": "markdown",
   "metadata": {},
   "source": [
    "## 4: Invalid state names"
   ]
  },
  {
   "cell_type": "markdown",
   "metadata": {},
   "source": [
    "### Assesment"
   ]
  },
  {
   "cell_type": "code",
   "execution_count": 824,
   "metadata": {},
   "outputs": [
    {
     "data": {
      "text/plain": [
       "QLD     6648\n",
       "WA      2201\n",
       "NSW      481\n",
       "TAS      146\n",
       "ACT       77\n",
       "SA        41\n",
       "VIC       25\n",
       "NT        14\n",
       "nsw?       5\n",
       "Name: State, dtype: int64"
      ]
     },
     "execution_count": 824,
     "metadata": {},
     "output_type": "execute_result"
    }
   ],
   "source": [
    "df_clean.State.value_counts()"
   ]
  },
  {
   "cell_type": "markdown",
   "metadata": {},
   "source": [
    "Conclusion: for the purposes of our story we can accept some innacuracy (but note it here in our analysis, so that the user can refer to it."
   ]
  },
  {
   "cell_type": "markdown",
   "metadata": {},
   "source": [
    "### Cleaning"
   ]
  },
  {
   "cell_type": "markdown",
   "metadata": {},
   "source": [
    "#### Define  \n",
    "Replace 'nsw?' with 'NSW' in `State` column."
   ]
  },
  {
   "cell_type": "code",
   "execution_count": 825,
   "metadata": {},
   "outputs": [],
   "source": [
    "df_clean.loc[df_clean.State=='nsw?','State'] = 'NSW'"
   ]
  },
  {
   "cell_type": "markdown",
   "metadata": {},
   "source": [
    "#### Test"
   ]
  },
  {
   "cell_type": "code",
   "execution_count": 826,
   "metadata": {},
   "outputs": [
    {
     "data": {
      "text/plain": [
       "QLD    6648\n",
       "WA     2201\n",
       "NSW     486\n",
       "TAS     146\n",
       "ACT      77\n",
       "SA       41\n",
       "VIC      25\n",
       "NT       14\n",
       "Name: State, dtype: int64"
      ]
     },
     "execution_count": 826,
     "metadata": {},
     "output_type": "execute_result"
    }
   ],
   "source": [
    "df_clean.State.value_counts()"
   ]
  },
  {
   "cell_type": "markdown",
   "metadata": {},
   "source": [
    "## 5: Multiple variable in one column: species stage and species sex"
   ]
  },
  {
   "cell_type": "markdown",
   "metadata": {},
   "source": [
    "### Assessment"
   ]
  },
  {
   "cell_type": "code",
   "execution_count": 827,
   "metadata": {},
   "outputs": [
    {
     "data": {
      "text/plain": [
       "not recorded         6197\n",
       "Male                 2044\n",
       "Female                725\n",
       "Subadult              227\n",
       "Juvenile              190\n",
       "Tadpole                99\n",
       "Metamorph              66\n",
       "Juvenile ?             35\n",
       "Juvenile female        22\n",
       "Juvenile female ?      21\n",
       "Subadult male          10\n",
       "Juvenile male  ?        3\n",
       "Male ?                  3\n",
       "Metamorph male          3\n",
       "Female ?                2\n",
       "Juvenile male           2\n",
       "Subadult female         2\n",
       "Juv                     1\n",
       "Name: Sex, dtype: int64"
      ]
     },
     "execution_count": 827,
     "metadata": {},
     "output_type": "execute_result"
    }
   ],
   "source": [
    "df_clean.Sex.value_counts()"
   ]
  },
  {
   "cell_type": "markdown",
   "metadata": {},
   "source": [
    "Conclusion: \n",
    "As we can see, in most cases the sex is not reported, but we still can get some valuable insights from about 3000+ observations with identified gender. As in the case with the `State` we can accept some uncertainty and remove the questions marks. However, we also an additional column here: \n",
    "- `stage` (one of: Adult, Subadult, Juvenile, Tadpole)\n",
    "\n",
    "For `Sex` column we will reduce the number of values to 4: \n",
    "- Female \n",
    "- Male \n",
    "- Metamorph \n",
    "- not recorded\n",
    "\n",
    "Note: frogs can change gender to due to environmental and even social changes, that's why we have metamorph here. "
   ]
  },
  {
   "cell_type": "markdown",
   "metadata": {},
   "source": [
    "### Cleaning"
   ]
  },
  {
   "cell_type": "markdown",
   "metadata": {},
   "source": [
    "#### Define\n",
    "Set `Sex` for all values containing 'female' as 'Female', 'male' -> 'Male', 'metamorph' -> 'metamorph'. Set all the remaining values to 'not recorded'. Create `Stage` column and set values to 'juvenie' for all rows, containing 'juvenile' or 'juv', to 'subadult' for all row, containing 'subadult', 'tadpole' for all rows containing 'tadpole', 'adult' for all rows that are not labeled as 'not recored' and are not in the categories mentioned above. "
   ]
  },
  {
   "cell_type": "markdown",
   "metadata": {},
   "source": [
    "#### Code"
   ]
  },
  {
   "cell_type": "code",
   "execution_count": 828,
   "metadata": {
    "scrolled": true
   },
   "outputs": [],
   "source": [
    "is_tadpole = (df_clean.Sex.str.contains(r'Tadpole.*',case=False))\n",
    "is_metamorph = (df_clean.Sex.str.contains(r'Metamorph.*',case=False))\n",
    "is_juvenile = (df_clean.Sex.str.contains(r'juv.*',case=False))\n",
    "is_subadult = (df_clean.Sex.str.contains(r'Subadult.*',case=False))\n",
    "is_adult = (~is_juvenile)&(~is_subadult)&(~is_tadpole)&(~is_metamorph)&(~df_clean.Sex.str.contains('not recorded'))"
   ]
  },
  {
   "cell_type": "code",
   "execution_count": 829,
   "metadata": {},
   "outputs": [],
   "source": [
    "df_clean['Stage'] = None\n",
    "df_clean.loc[is_tadpole, 'Stage'] = 'Tadpole'\n",
    "df_clean.loc[is_metamorph, 'Stage'] = 'Metamorph'\n",
    "df_clean.loc[is_juvenile, 'Stage'] = 'Juvenile'\n",
    "df_clean.loc[is_subadult, 'Stage'] = 'Subadult'\n",
    "df_clean.loc[is_adult, 'Stage'] = 'Adult'"
   ]
  },
  {
   "cell_type": "code",
   "execution_count": 830,
   "metadata": {},
   "outputs": [],
   "source": [
    "is_female = df_clean.Sex.str.contains(r'female.*', case=False)\n",
    "is_male = df_clean.Sex.str.contains(r'male.*', case=False)&(~is_female)\n",
    "not_recorded = (~is_female)&(~is_male)"
   ]
  },
  {
   "cell_type": "code",
   "execution_count": 831,
   "metadata": {},
   "outputs": [],
   "source": [
    "df_clean.loc[is_female,'Sex'] = 'Female'\n",
    "df_clean.loc[is_male,'Sex'] = 'Male'\n",
    "df_clean.loc[not_recorded,'Sex'] = 'not recorded'"
   ]
  },
  {
   "cell_type": "markdown",
   "metadata": {},
   "source": [
    "#### Test"
   ]
  },
  {
   "cell_type": "code",
   "execution_count": 832,
   "metadata": {},
   "outputs": [
    {
     "data": {
      "text/plain": [
       "Adult        2774\n",
       "Juvenile      274\n",
       "Subadult      239\n",
       "Tadpole        99\n",
       "Metamorph      69\n",
       "Name: Stage, dtype: int64"
      ]
     },
     "execution_count": 832,
     "metadata": {},
     "output_type": "execute_result"
    }
   ],
   "source": [
    "df_clean.Stage.value_counts()"
   ]
  },
  {
   "cell_type": "code",
   "execution_count": 833,
   "metadata": {},
   "outputs": [
    {
     "data": {
      "text/plain": [
       "not recorded    6815\n",
       "Male            2065\n",
       "Female           772\n",
       "Name: Sex, dtype: int64"
      ]
     },
     "execution_count": 833,
     "metadata": {},
     "output_type": "execute_result"
    }
   ],
   "source": [
    "df_clean.Sex.value_counts()"
   ]
  },
  {
   "cell_type": "markdown",
   "metadata": {},
   "source": [
    "## 6: Too narrow categories in `Species` column"
   ]
  },
  {
   "cell_type": "markdown",
   "metadata": {},
   "source": [
    "### Assessment"
   ]
  },
  {
   "cell_type": "code",
   "execution_count": 834,
   "metadata": {},
   "outputs": [
    {
     "data": {
      "text/plain": [
       "114"
      ]
     },
     "execution_count": 834,
     "metadata": {},
     "output_type": "execute_result"
    }
   ],
   "source": [
    "df_clean.Species.nunique()"
   ]
  },
  {
   "cell_type": "code",
   "execution_count": 835,
   "metadata": {},
   "outputs": [
    {
     "data": {
      "text/plain": [
       "array(['Pseudophryne pengilleyi', 'Pseudophryne corroboree',\n",
       "       'Mixophyes fleayi', 'Litoria pearsoniana', 'Rhinella marina',\n",
       "       'Adelotus brevis', 'Litoria caerulea', 'Litoria wilcoxii',\n",
       "       'Crinia parinsignifera', 'Limnodynastes peronii',\n",
       "       'Litoria brevipalmata', 'Litoria rubella', 'Litoria brevipes',\n",
       "       'Litoria fallax', 'Litoria chloris', 'Mixophyes iteratus',\n",
       "       'Mixophyes fasciolatus', 'Philoria kundagungan', 'Litoria dentata',\n",
       "       'Platyplectrum ornatum', 'Limnodynastes tasmaniensis',\n",
       "       'Litoria latopalmata', 'Litoria alboguttata', 'Litoria peronii',\n",
       "       'Neobatrachus sudelli', 'Limnodynastes terraereginae',\n",
       "       'Litoria rothii', 'Litoria nasuta', 'Litoria pallida',\n",
       "       'Litoria tornieri', 'sp. Crinia', 'Pseudophryne bibronii',\n",
       "       'Litoria genimaculata', 'Litoria nannotis', 'Litoria rheocola',\n",
       "       'Nyctimystes dayi', 'Litoria lesueuri sensu lato',\n",
       "       'Hylarana daemeli', 'Mixophyes schevilli', 'Litoria infrafrenata',\n",
       "       'unknown', 'Taudactylus rheophilus', 'Austrochaperina robusta',\n",
       "       'Litoria andirrmalin', 'Litoria novaehollandiae',\n",
       "       'Litoria inermis', 'Litoria gracilenta', 'Uperoleia mimula',\n",
       "       'Crinia deserticola', 'Uperoleia altissima', 'Litoria jungguy',\n",
       "       'Litoria eucnemis', 'Litoria longirostris', 'Litoria spenceri',\n",
       "       'Crinia signifera', 'Taudactylus acutirostris',\n",
       "       'Litoria raniformis', 'Litoria verreauxii', 'Litoria ewingii',\n",
       "       'Limnodynastes dumerilii', 'Crinia riparia', 'Litoria citropa',\n",
       "       'Litoria lesueuri', 'Lechriodus fletcheri',\n",
       "       'Taudactylus eungellensis', 'Litoria aurea',\n",
       "       'Heleioporus australiacus', 'Litoria serrata', 'Litoria moorei',\n",
       "       'Crinia georgiana', 'sp. Mixophyes', 'Litoria xanthomera',\n",
       "       'Litoria revelata', 'Taudactylus liemi', 'Litoria barringtonensis',\n",
       "       'Litoria phyllochroa', 'Uperoleia laevigata', 'Litoria tyleri',\n",
       "       'Geocrinia rosea', 'Heleioporus eyrei', 'Litoria adelaidensis',\n",
       "       'Crinia glauerti', 'Crinia insignifera', 'Limnodynastes dorsalis',\n",
       "       'Crinia pseudinsignifera', 'Taudactylus pleione',\n",
       "       'Litoria bicolor', 'Litoria nigrofrenata', 'Litoria microbelos',\n",
       "       'Limnodynastes convexiusculus', 'Litoria dahlii',\n",
       "       'Litoria electrica', 'Litoria australis', 'Litoria Brevipes',\n",
       "       'Geocrinia leai', 'Myobatrachus gouldii', 'Pseudophryne guentheri',\n",
       "       'Neobatrachus kunapalari', 'Neobatrachus pelobatoides',\n",
       "       'sp. Litoria', 'Ambystoma mexicanum', 'Heleioporus barycragus',\n",
       "       'sp. Heleioporus', 'Heleioporus psammophilus',\n",
       "       'Crinia subinsignifera', 'sp. Neobatrachus',\n",
       "       'Spicospina flammocaerulea', 'Litoria coplandi', 'Geocrinia alba',\n",
       "       'Geocrinia vitellina', 'Heleioporus albopunctatus',\n",
       "       'Limnodynastes tasmaniensis ', 'Limnodynastes fletcheri',\n",
       "       'Cophixalus ornatus'], dtype=object)"
      ]
     },
     "execution_count": 835,
     "metadata": {},
     "output_type": "execute_result"
    }
   ],
   "source": [
    "df_clean.Species.unique()"
   ]
  },
  {
   "cell_type": "code",
   "execution_count": 836,
   "metadata": {},
   "outputs": [
    {
     "data": {
      "text/plain": [
       "153"
      ]
     },
     "execution_count": 836,
     "metadata": {},
     "output_type": "execute_result"
    }
   ],
   "source": [
    "(df_clean.Species=='unknown').sum()"
   ]
  },
  {
   "cell_type": "code",
   "execution_count": 837,
   "metadata": {},
   "outputs": [
    {
     "data": {
      "text/plain": [
       "array(['Taudactylus rheophilus', 'Taudactylus acutirostris',\n",
       "       'Taudactylus eungellensis', 'Taudactylus liemi',\n",
       "       'Taudactylus pleione'], dtype=object)"
      ]
     },
     "execution_count": 837,
     "metadata": {},
     "output_type": "execute_result"
    }
   ],
   "source": [
    "df_clean[is_taudactylus].Species.unique()"
   ]
  },
  {
   "cell_type": "markdown",
   "metadata": {},
   "source": [
    "### Cleaning"
   ]
  },
  {
   "cell_type": "markdown",
   "metadata": {},
   "source": [
    "#### Define \n",
    "\n",
    "Group species into categories to aggreagate close species (e.g. various types of Litoria), mare rare species into group 'Other'. Create a separate column for that category."
   ]
  },
  {
   "cell_type": "markdown",
   "metadata": {},
   "source": [
    "#### Code"
   ]
  },
  {
   "cell_type": "code",
   "execution_count": 838,
   "metadata": {
    "scrolled": true
   },
   "outputs": [
    {
     "name": "stdout",
     "output_type": "stream",
     "text": [
      "5485\n",
      "434\n",
      "970\n",
      "240\n",
      "29\n",
      "303\n",
      "1019\n",
      "398\n",
      "64\n",
      "351\n",
      "65\n",
      "294\n"
     ]
    }
   ],
   "source": [
    "is_litoria = df_clean.Species.str.contains(r'Litoria',case=False)\n",
    "is_pseudophryne = df_clean.Species.str.contains(r'Pseudophryne',case=False)\n",
    "is_crinia = df_clean.Species.str.contains(r'Crinia', case=False)\n",
    "is_limnodynastes = df_clean.Species.str.contains(r'Limnodynastes', case=False)\n",
    "is_neobatrachus = df_clean.Species.str.contains(r'Neobatrachus', case=False)\n",
    "is_heleioporus = df_clean.Species.str.contains(r'Heleioporus', case=False)\n",
    "is_mixophyes = df_clean.Species.str.contains(r'Mixophyes', case=False)\n",
    "is_taudactylus = df_clean.Species.str.contains(r'Taudactylus', case=False)\n",
    "is_uperoleia = df_clean.Species.str.contains(r'Uperoleia', case=False)\n",
    "is_nyctimystes = df_clean.Species.str.contains(r'Nyctimystes', case=False)\n",
    "is_hylarana_daemeli = df_clean.Species.str.contains(r'Hylarana daemeli',case=False)\n",
    "other = ((~is_litoria)&(~is_pseudophryne)&(~is_crinia)&(~is_limnodynastes)&\n",
    "         (~is_neobatrachus)&(~is_heleioporus)&(~is_mixophyes)&(~is_taudactylus)&\n",
    "         (~is_uperoleia)&(~is_nyctimystes)&(~is_hylarana_daemeli))\n",
    "print(is_litoria.sum())\n",
    "print(is_pseudophryne.sum())\n",
    "print(is_crinia.sum())\n",
    "print(is_limnodynastes.sum())\n",
    "print(is_neobatrachus.sum())\n",
    "print(is_heleioporus.sum())\n",
    "print(is_mixophyes.sum())\n",
    "print(is_taudactylus.sum())\n",
    "print(is_uperoleia.sum())\n",
    "print(is_nyctimystes.sum())\n",
    "print(is_hylarana_daemeli.sum())\n",
    "print(other.sum())"
   ]
  },
  {
   "cell_type": "code",
   "execution_count": 839,
   "metadata": {},
   "outputs": [
    {
     "data": {
      "text/plain": [
       "unknown                      153\n",
       "Cophixalus ornatus            37\n",
       "Rhinella marina               34\n",
       "Adelotus brevis               30\n",
       "Ambystoma mexicanum           11\n",
       "Platyplectrum ornatum         10\n",
       "Austrochaperina robusta        9\n",
       "Philoria kundagungan           4\n",
       "Myobatrachus gouldii           3\n",
       "Spicospina flammocaerulea      2\n",
       "Lechriodus fletcheri           1\n",
       "Name: Species, dtype: int64"
      ]
     },
     "execution_count": 839,
     "metadata": {},
     "output_type": "execute_result"
    }
   ],
   "source": [
    "unclassified = df_clean[other]\n",
    "unclassified.Species.value_counts()"
   ]
  },
  {
   "cell_type": "code",
   "execution_count": 840,
   "metadata": {},
   "outputs": [],
   "source": [
    "df_clean['Genus'] = None\n",
    "df_clean.loc[is_litoria, 'Genus'] = 'Litoria'\n",
    "df_clean.loc[is_pseudophryne, 'Genus'] = 'Pseudophryne'\n",
    "df_clean.loc[is_crinia, 'Genus'] = 'Crinia'\n",
    "df_clean.loc[is_limnodynastes, 'Genus'] = 'Limnodynastes'\n",
    "df_clean.loc[is_limnodynastes, 'Genus'] = 'Limnodynastes'\n",
    "df_clean.loc[is_neobatrachus, 'Genus'] = 'Neobatrachus'\n",
    "df_clean.loc[is_heleioporus, 'Genus'] = 'Heleioporos'\n",
    "df_clean.loc[is_mixophyes, 'Genus'] = 'Mixophyes'\n",
    "df_clean.loc[is_taudactylus, 'Genus'] = 'Taudactylus'\n",
    "df_clean.loc[is_uperoleia, 'Genus'] = 'Uperoleia'\n",
    "df_clean.loc[is_nyctimystes, 'Genus'] = 'Nyctimystes'\n",
    "df_clean.loc[is_hylarana_daemeli, 'Genus'] = 'Hylarana daemeli'\n",
    "df_clean.loc[other, 'Genus'] = 'Other'"
   ]
  },
  {
   "cell_type": "code",
   "execution_count": 842,
   "metadata": {
    "scrolled": false
   },
   "outputs": [
    {
     "data": {
      "text/plain": [
       "Litoria             5485\n",
       "Mixophyes           1019\n",
       "Crinia               970\n",
       "Pseudophryne         434\n",
       "Taudactylus          398\n",
       "Nyctimystes          351\n",
       "Heleioporos          303\n",
       "Other                294\n",
       "Limnodynastes        240\n",
       "Hylarana daemeli      65\n",
       "Uperoleia             64\n",
       "Neobatrachus          29\n",
       "Name: Genus, dtype: int64"
      ]
     },
     "execution_count": 842,
     "metadata": {},
     "output_type": "execute_result"
    }
   ],
   "source": [
    "df_clean.Genus.value_counts()"
   ]
  },
  {
   "cell_type": "code",
   "execution_count": 843,
   "metadata": {},
   "outputs": [
    {
     "data": {
      "text/plain": [
       "Index(['Compiled_by', 'Database_ID', 'Species', 'Sex', 'Site', 'State',\n",
       "       'Country', 'Year', 'Diagnostic', 'Individuals', 'Indivs_positive',\n",
       "       'Collector_source', 'Orig_database', 'Disease_status', 'Accuracy',\n",
       "       'Latitude', 'Longitude', 'Dead_or_sick', 'Conservation_Status',\n",
       "       'Conservation_Status_Code', 'Stage', 'Genus'],\n",
       "      dtype='object')"
      ]
     },
     "execution_count": 843,
     "metadata": {},
     "output_type": "execute_result"
    }
   ],
   "source": [
    "df_clean.columns"
   ]
  },
  {
   "cell_type": "markdown",
   "metadata": {},
   "source": [
    "#### Define\n",
    "Add species family based on metadata: http://www.esapubs.org/archive/ecol/E091/108/metadata.htm"
   ]
  },
  {
   "cell_type": "markdown",
   "metadata": {},
   "source": [
    "#### Code"
   ]
  },
  {
   "cell_type": "code",
   "execution_count": 877,
   "metadata": {},
   "outputs": [],
   "source": [
    "is_bufonidae = df_clean.Species.str.contains('Rhinella')\n",
    "is_hylidae = (df_clean.Genus=='Litoria') | (df_clean.Species.str.contains('Nyctimystes'))\n",
    "is_limnodynastidae = ((df_clean.Species.str.contains('Adelotus')) |\n",
    "                     (df_clean.Species.str.contains('Heleioporus')) |\n",
    "                      (df_clean.Species.str.contains('Lechriodus')) |\n",
    "                      (df_clean.Species.str.contains('Limnodynastes') |\n",
    "                      (df_clean.Species.str.contains('Neobatrachus')))\n",
    "                     )\n",
    "is_microhylidae = (df_clean.Species.str.contains('Cophixalus')|df_clean.Species.str.contains('Austrochaperina'))\n",
    "is_myobatrachidae = ((df_clean.Species.str.contains('Assa')) |\n",
    "                     (df_clean.Species.str.contains('Crinia')) |\n",
    "                     (df_clean.Species.str.contains('Geocrinia')) |\n",
    "                     (df_clean.Species.str.contains('Mixophyes')) |\n",
    "                     (df_clean.Species.str.contains('Pseudophryne')) |\n",
    "                     (df_clean.Species.str.contains('Taudactylus')) |\n",
    "                     (df_clean.Species.str.contains('Uperoleia')) |\n",
    "                     (df_clean.Species.str.contains('Philoria')) |\n",
    "                     (df_clean.Species.str.contains('Platyplectrum')) |\n",
    "                     (df_clean.Species.str.contains('Myobatrachus')) |\n",
    "                     (df_clean.Species.str.contains('Spicospina'))\n",
    "                    )\n",
    "is_ambystomatidae = df_clean.Species.str.contains('Ambystoma')\n",
    "is_ranidae = df_clean.Species.str.contains('Hylarana')                    \n",
    "df_clean['Family'] = None\n",
    "df_clean.loc[is_bufonidae, 'Family'] = 'Bufonidae'\n",
    "df_clean.loc[is_hylidae, 'Family'] = 'Hylidae'\n",
    "df_clean.loc[is_limnodynastidae, 'Family'] = 'Limnodynastidae'\n",
    "df_clean.loc[is_microhylidae, 'Family'] = 'Microhylidae'\n",
    "df_clean.loc[is_myobatrachidae, 'Family'] = 'Myobatrachidae'\n",
    "df_clean.loc[is_ambystomatidae, 'Family'] = 'Ambystomatidae'\n",
    "df_clean.loc[is_ranidae, 'Family'] = 'Ranidae'\n",
    "\n",
    "\n",
    "#df_clean.loc[((~is_bufonidae)&(~is_hylidae)&\n",
    "#          (~is_limnodynastidae)&(~is_microhylidae)&\n",
    "#          (~is_myobatrachidae)&(~is_ranidae)&(~is_ambystomatidae)), 'Family'] = 'unknown'"
   ]
  },
  {
   "cell_type": "markdown",
   "metadata": {},
   "source": [
    "#### Test"
   ]
  },
  {
   "cell_type": "code",
   "execution_count": 878,
   "metadata": {},
   "outputs": [
    {
     "data": {
      "text/plain": [
       "Hylidae            5836\n",
       "Myobatrachidae     2904\n",
       "Limnodynastidae     603\n",
       "Ranidae              65\n",
       "Microhylidae         46\n",
       "Bufonidae            34\n",
       "Ambystomatidae       11\n",
       "Name: Family, dtype: int64"
      ]
     },
     "execution_count": 878,
     "metadata": {},
     "output_type": "execute_result"
    }
   ],
   "source": [
    "df_clean.Family.value_counts()"
   ]
  },
  {
   "cell_type": "markdown",
   "metadata": {},
   "source": [
    "## 7: Missing values for key indicators: number of individula and number of positively diagnosed"
   ]
  },
  {
   "cell_type": "markdown",
   "metadata": {},
   "source": [
    "### Assessment"
   ]
  },
  {
   "cell_type": "code",
   "execution_count": 879,
   "metadata": {},
   "outputs": [
    {
     "data": {
      "text/plain": [
       "(123, 60)"
      ]
     },
     "execution_count": 879,
     "metadata": {},
     "output_type": "execute_result"
    }
   ],
   "source": [
    "df_clean.Individuals.isnull().sum(), df_clean.Indivs_positive.isnull().sum()"
   ]
  },
  {
   "cell_type": "code",
   "execution_count": 880,
   "metadata": {},
   "outputs": [
    {
     "data": {
      "text/plain": [
       "46"
      ]
     },
     "execution_count": 880,
     "metadata": {},
     "output_type": "execute_result"
    }
   ],
   "source": [
    "df_clean[df_clean.Individuals.isnull()].Indivs_positive.isnull().sum()"
   ]
  },
  {
   "cell_type": "code",
   "execution_count": 881,
   "metadata": {},
   "outputs": [
    {
     "data": {
      "text/plain": [
       "46"
      ]
     },
     "execution_count": 881,
     "metadata": {},
     "output_type": "execute_result"
    }
   ],
   "source": [
    "df_clean[df_clean.Indivs_positive.isnull()].Individuals.isnull().sum()"
   ]
  },
  {
   "cell_type": "markdown",
   "metadata": {},
   "source": [
    "### Cleaning"
   ]
  },
  {
   "cell_type": "markdown",
   "metadata": {},
   "source": [
    "#### Define \n",
    "Remove observation with no data about the number of infected species"
   ]
  },
  {
   "cell_type": "markdown",
   "metadata": {},
   "source": [
    "#### Code"
   ]
  },
  {
   "cell_type": "code",
   "execution_count": 882,
   "metadata": {},
   "outputs": [
    {
     "data": {
      "text/plain": [
       "137"
      ]
     },
     "execution_count": 882,
     "metadata": {},
     "output_type": "execute_result"
    }
   ],
   "source": [
    "no_indicators = df_clean.Individuals.isnull() | df_clean.Indivs_positive.isnull()\n",
    "no_indicators.sum()"
   ]
  },
  {
   "cell_type": "code",
   "execution_count": 883,
   "metadata": {},
   "outputs": [],
   "source": [
    "df_clean = df_clean[~no_indicators]"
   ]
  },
  {
   "cell_type": "markdown",
   "metadata": {},
   "source": [
    "#### Test"
   ]
  },
  {
   "cell_type": "code",
   "execution_count": 884,
   "metadata": {},
   "outputs": [
    {
     "data": {
      "text/plain": [
       "(0, 0)"
      ]
     },
     "execution_count": 884,
     "metadata": {},
     "output_type": "execute_result"
    }
   ],
   "source": [
    "df_clean.Individuals.isnull().sum(), df_clean.Indivs_positive.isnull().sum()"
   ]
  },
  {
   "cell_type": "markdown",
   "metadata": {},
   "source": [
    "## 8: Negative and negative recored as different statuses in `Disease_status`"
   ]
  },
  {
   "cell_type": "markdown",
   "metadata": {},
   "source": [
    "### Assessment"
   ]
  },
  {
   "cell_type": "code",
   "execution_count": 885,
   "metadata": {},
   "outputs": [
    {
     "data": {
      "text/plain": [
       "negative     7037\n",
       "positive     1239\n",
       "no result    1114\n",
       "Negative      125\n",
       "Name: Disease_status, dtype: int64"
      ]
     },
     "execution_count": 885,
     "metadata": {},
     "output_type": "execute_result"
    }
   ],
   "source": [
    "df_clean.Disease_status.value_counts()"
   ]
  },
  {
   "cell_type": "markdown",
   "metadata": {},
   "source": [
    "### Cleaning"
   ]
  },
  {
   "cell_type": "markdown",
   "metadata": {},
   "source": [
    "#### Define\n",
    "Unify status name for \"negative\" status: all negative values should be labelled as 'negative'"
   ]
  },
  {
   "cell_type": "markdown",
   "metadata": {},
   "source": [
    "#### Code"
   ]
  },
  {
   "cell_type": "code",
   "execution_count": 886,
   "metadata": {},
   "outputs": [],
   "source": [
    "df_clean.loc[df_clean.Disease_status=='Negative', 'Disease_status'] = 'negative'"
   ]
  },
  {
   "cell_type": "markdown",
   "metadata": {},
   "source": [
    "#### Test"
   ]
  },
  {
   "cell_type": "code",
   "execution_count": 887,
   "metadata": {
    "scrolled": true
   },
   "outputs": [
    {
     "data": {
      "text/plain": [
       "negative     7162\n",
       "positive     1239\n",
       "no result    1114\n",
       "Name: Disease_status, dtype: int64"
      ]
     },
     "execution_count": 887,
     "metadata": {},
     "output_type": "execute_result"
    }
   ],
   "source": [
    "df_clean.Disease_status.value_counts()"
   ]
  },
  {
   "cell_type": "code",
   "execution_count": 888,
   "metadata": {},
   "outputs": [],
   "source": [
    "au_states = {\n",
    "    'NSW': 'New South Wales',\n",
    "    'QLD': 'Queensland',\n",
    "    'SA': 'South Australia',\n",
    "    'TAS': 'Tasmania',\n",
    "    'VIC': 'Victoria',\n",
    "    'WA': 'Western Australia',\n",
    "    'ACT': 'Australian Capital Territory',\n",
    "    'NT': 'Northern Territory'\n",
    "}"
   ]
  },
  {
   "cell_type": "code",
   "execution_count": 889,
   "metadata": {},
   "outputs": [],
   "source": [
    "df_clean['State_FullName'] = df_clean.State.apply(lambda x: au_states[x] if x else None)"
   ]
  },
  {
   "cell_type": "markdown",
   "metadata": {},
   "source": [
    "# Store the cleaned dataset"
   ]
  },
  {
   "cell_type": "code",
   "execution_count": 890,
   "metadata": {},
   "outputs": [],
   "source": [
    "df_clean.to_csv(\"./data/Chytridiomycosis_enhanced_cleaned.csv\", index=False)"
   ]
  },
  {
   "cell_type": "code",
   "execution_count": 891,
   "metadata": {},
   "outputs": [
    {
     "data": {
      "text/plain": [
       "0"
      ]
     },
     "execution_count": 891,
     "metadata": {},
     "output_type": "execute_result"
    }
   ],
   "source": [
    "(df_clean.Indivs_positive>df_clean.Individuals).sum()"
   ]
  },
  {
   "cell_type": "markdown",
   "metadata": {},
   "source": [
    "# EDA"
   ]
  },
  {
   "cell_type": "markdown",
   "metadata": {},
   "source": [
    "<a href=\"https://public.tableau.com/profile/anastasia7889#!/vizhome/ChytridiomycosisinAustraliaFinal/Chytridiomycosis\">See Tableau Story</a>"
   ]
  },
  {
   "cell_type": "markdown",
   "metadata": {},
   "source": [
    "# References\n",
    "\n",
    "- [Chytridiomycosis](http://wildlife.ohiodnr.gov/portals/wildlife/pdfs/species%20and%20habitats/chytrid.pdf) \n",
    "- [Chytridiomycosis on Wikipedia](https://en.wikipedia.org/wiki/Chytridiomycosis#cite_note-Di_Rosa-28)  \n",
    "- [Overview of Chytridiomycosis](https://amphibiaweb.org/chytrid/chytridiomycosis.html) \n",
    "- [Original Dataset Metadata](http://www.esapubs.org/archive/ecol/E091/108/metadata.htm)\n",
    "- [First Documented Exctinction by Infection](https://www.researchgate.net/publication/29463188_The_Decline_of_the_Sharp-Snouted_Day_Frog_Taudactylus_acutirostris_The_First_Documented_Case_of_Extinction_by_Infection_in_a_Free-Ranging_Wildlife_Species)\n",
    "- [Full Report](https://www.cabi.org/ISC/datasheet/109124)\n",
    "- [Chytridiomycosis causes catastrophic organism-wide metabolic dysregulation including profound failure of cellular energy pathways](https://www.researchgate.net/publication/325426490_Chytridiomycosis_causes_catastrophic_organism-wide_metabolic_dysregulation_including_profound_failure_of_cellular_energy_pathways)"
   ]
  }
 ],
 "metadata": {
  "kernelspec": {
   "display_name": "DAND",
   "language": "python",
   "name": "dand"
  },
  "language_info": {
   "codemirror_mode": {
    "name": "ipython",
    "version": 3
   },
   "file_extension": ".py",
   "mimetype": "text/x-python",
   "name": "python",
   "nbconvert_exporter": "python",
   "pygments_lexer": "ipython3",
   "version": "3.6.8"
  }
 },
 "nbformat": 4,
 "nbformat_minor": 2
}
